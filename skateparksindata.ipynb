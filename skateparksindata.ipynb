{
 "cells": [
  {
   "cell_type": "code",
   "execution_count": 191,
   "metadata": {},
   "outputs": [],
   "source": [
    "### Imports ###\n",
    "\n",
    "# Libs\n",
    "import pandas as pd\n",
    "import seaborn as sns\n",
    "import geopandas\n",
    "import folium\n",
    "import matplotlib.pyplot as plt\n",
    "import requests\n",
    "import emoji\n",
    "from shapely.geometry import Point\n",
    "from wordcloud import WordCloud, STOPWORDS, ImageColorGenerator\n",
    "import ipywidgets as widgets\n",
    "from ipywidgets import Button, Layout\n",
    "import IPython.display as dsply\n",
    "from IPython.display import display\n",
    "from IPython.display import Image\n",
    "from IPython.display import clear_output\n",
    "from ipywidgets import IntSlider, Output\n",
    "from IPython.display import Markdown as md\n",
    "from IPython.core.display import HTML\n",
    "\n",
    "# Images\n",
    "img = Image(filename=\"Images/heatmap_guide.png\", width=1000, height='auto')\n",
    "\n",
    "#print(\"All libraries imported. \")"
   ]
  },
  {
   "cell_type": "markdown",
   "metadata": {},
   "source": [
    "<img src=\"Images/logo_PID.png\" style=\"width: 70px;\"/>"
   ]
  },
  {
   "cell_type": "markdown",
   "metadata": {},
   "source": [
    "<a id=\"top\"></a>"
   ]
  },
  {
   "cell_type": "code",
   "execution_count": 369,
   "metadata": {},
   "outputs": [
    {
     "data": {
      "text/html": [
       "\n",
       "\n",
       "<link href=\"https://fonts.googleapis.com/css2?family=Calligraffitti&family=Lexend+Tera&display=swap\" rel=\"stylesheet\"> \n",
       "\n",
       "<style>\n",
       "\n",
       "/* Add a black background color to the top navigation */\n",
       ".topnav {\n",
       "  background-color: #8D4E85;\n",
       "  overflow: hidden;\n",
       "}\n",
       "\n",
       "/* Style the links inside the navigation bar */\n",
       ".topnav a {\n",
       "  float: left;\n",
       "  text-align: center;\n",
       "  color: coral;\n",
       "  padding: 14px 16px;\n",
       "  text-decoration: none;\n",
       "  font-size: 16px;\n",
       "  font-family: 'Calligraffitti', cursive;\n",
       "  font-family: 'Lexend Tera', sans-serif;\n",
       "}\n",
       "\n",
       "/* Change the color of links on hover */\n",
       ".topnav a:hover, a:active {\n",
       "  background-color: #ddd;\n",
       "  color: black;\n",
       "}\n",
       "\n",
       "\n",
       "\n",
       "\n",
       "</style>\n",
       "\n",
       " <div class=\"topnav\">\n",
       "  <a href=\"#weather\" style='color: coral;'>Today's weather</a>\n",
       "  <a href=\"#word_cloud\" style='color: coral;'>Word Cloud</a>\n",
       "  <a href=\"#heatmap\" style='color: coral;'>Heatmap</a>\n",
       "  <a href=\"#visitors\" style='color: coral;'>Total Skatepark Visitors</a>\n",
       "  <a href=\"#sport_age\" style='color: coral;'>Sport vs Age Group</a>\n",
       "  <a href=\"#map\" style='color: coral;'>Map: Skateparks in Malmö</a>\n",
       "</div> \n",
       "\n"
      ],
      "text/plain": [
       "<IPython.core.display.HTML object>"
      ]
     },
     "execution_count": 369,
     "metadata": {},
     "output_type": "execute_result"
    }
   ],
   "source": [
    "HTML(\"\"\"\n",
    "\n",
    "<link href=\"https://fonts.googleapis.com/css2?family=Calligraffitti&family=Lexend+Tera&display=swap\" rel=\"stylesheet\"> \n",
    "\n",
    "<style>\n",
    "\n",
    "/* Add a black background color to the top navigation */\n",
    ".topnav {\n",
    "  background-color: #8D4E85;\n",
    "  overflow: hidden;\n",
    "}\n",
    "\n",
    "/* Style the links inside the navigation bar */\n",
    ".topnav a {\n",
    "  float: left;\n",
    "  text-align: center;\n",
    "  color: coral;\n",
    "  padding: 14px 16px;\n",
    "  text-decoration: none;\n",
    "  font-size: 16px;\n",
    "  font-family: 'Calligraffitti', cursive;\n",
    "  font-family: 'Lexend Tera', sans-serif;\n",
    "}\n",
    "\n",
    "/* Change the color of links on hover */\n",
    ".topnav a:hover, a:active {\n",
    "  background-color: #ddd;\n",
    "  color: black;\n",
    "}\n",
    "\n",
    "\n",
    "\n",
    "\n",
    "</style>\n",
    "\n",
    " <div class=\"topnav\">\n",
    "  <a href=\"#weather\" style='color: coral;'>Today's weather</a>\n",
    "  <a href=\"#word_cloud\" style='color: coral;'>Word Cloud</a>\n",
    "  <a href=\"#heatmap\" style='color: coral;'>Heatmap</a>\n",
    "  <a href=\"#visitors\" style='color: coral;'>Total Skatepark Visitors</a>\n",
    "  <a href=\"#sport_age\" style='color: coral;'>Sport vs Age Group</a>\n",
    "  <a href=\"#map\" style='color: coral;'>Map: Skateparks in Malmö</a>\n",
    "</div> \n",
    "\n",
    "\"\"\")"
   ]
  },
  {
   "cell_type": "code",
   "execution_count": 370,
   "metadata": {},
   "outputs": [
    {
     "data": {
      "text/html": [
       "\n",
       "\n",
       "<link href=\"https://fonts.googleapis.com/css2?family=Luckiest+Guy&display=swap\" rel=\"stylesheet\"> \n",
       "\n",
       "<style>\n",
       ".welcome {\n",
       "    font-family: 'Luckiest Guy', cursive;\n",
       "    text-align: center;\n",
       "    font-size: 38px;\n",
       "}\n",
       ".welcome_text {\n",
       "    text-align: center;\n",
       "    font-size: 18px;\n",
       "    font-style: oblique;\n",
       "}\n",
       "\n",
       "\n",
       "</style>\n",
       "\n",
       "<div class=\"welcome\">\n",
       "  <h2>Welcome to Skateparks in Data</h2>\n",
       "</div>\n",
       "<div class=\"welcome_text\">\n",
       " Below you can witness different statistics about the skateparks in Malmö.\n",
       "</div>\n",
       "<br>\n",
       "\n",
       "\n"
      ],
      "text/plain": [
       "<IPython.core.display.HTML object>"
      ]
     },
     "execution_count": 370,
     "metadata": {},
     "output_type": "execute_result"
    }
   ],
   "source": [
    "HTML(\"\"\"\n",
    "\n",
    "<link href=\"https://fonts.googleapis.com/css2?family=Luckiest+Guy&display=swap\" rel=\"stylesheet\"> \n",
    "\n",
    "<style>\n",
    ".welcome {\n",
    "    font-family: 'Luckiest Guy', cursive;\n",
    "    text-align: center;\n",
    "    font-size: 38px;\n",
    "}\n",
    ".welcome_text {\n",
    "    text-align: center;\n",
    "    font-size: 18px;\n",
    "    font-style: oblique;\n",
    "}\n",
    "\n",
    "\n",
    "</style>\n",
    "\n",
    "<div class=\"welcome\">\n",
    "  <h2>Welcome to Skateparks in Data</h2>\n",
    "</div>\n",
    "<div class=\"welcome_text\">\n",
    " Below you can witness different statistics about the skateparks in Malmö.\n",
    "</div>\n",
    "<br>\n",
    "\n",
    "\n",
    "\"\"\")"
   ]
  },
  {
   "cell_type": "code",
   "execution_count": 371,
   "metadata": {},
   "outputs": [],
   "source": [
    "data = \"Data/skateparks.csv\"\n",
    "\n",
    "# Read data and parse df['Timestamp] to Timestamp format in DataFrame\n",
    "df = pd.read_csv(data, parse_dates=['Timestamp'], \n",
    "    date_parser=lambda x: pd.to_datetime(x, format='%d/%m/%Y %H:%M:%S'))"
   ]
  },
  {
   "cell_type": "code",
   "execution_count": 372,
   "metadata": {},
   "outputs": [],
   "source": [
    "# Get API from SMHI\n",
    "entrypoint = 'https://opendata-download-metfcst.smhi.se/api/category/pmp3g/version/2/geotype/point/lon/13.00073/lat/55.60587/data.json'\n",
    "\n",
    "# Response saved as result\n",
    "response = requests.get(entrypoint)\n",
    "result = response.json()"
   ]
  },
  {
   "cell_type": "code",
   "execution_count": 373,
   "metadata": {},
   "outputs": [],
   "source": [
    "# Adding variable for temperature\n",
    "temperature = 0\n",
    "for i in result['timeSeries'][0]['parameters']:\n",
    "  if(i['name'] == 't'):\n",
    "    temperature = i['values']\n",
    "    temperature = str(temperature).strip('[]')\n",
    "    temperature = float(temperature)\n",
    "    #temperature = round(temperature)"
   ]
  },
  {
   "cell_type": "code",
   "execution_count": 374,
   "metadata": {},
   "outputs": [],
   "source": [
    "# Adding variable for wind\n",
    "wind = 0\n",
    "for i in result['timeSeries'][0]['parameters']:\n",
    "  if(i['name'] == 'ws'):\n",
    "    wind = i['values']\n",
    "    wind = str(wind).strip('[]')\n",
    "    #wind = float(wind)"
   ]
  },
  {
   "cell_type": "code",
   "execution_count": 375,
   "metadata": {},
   "outputs": [],
   "source": [
    "# Weather symbols, SMHI\n",
    "\n",
    "weather_symbols = {\n",
    "    1: 'Clear sky',\n",
    "    2: 'Nearly clear sky',\n",
    "    3: 'Variable cloudiness',\n",
    "    4: 'Halfclear sky',\n",
    "    5: 'Cloudy sky',\n",
    "    6: 'Overcast',\n",
    "    7: 'Fog',\n",
    "    8: 'Light rain showers',\n",
    "    9: 'Moderate rain showers',\n",
    "    10: 'Heavy rain showers',\n",
    "    11: 'Thunderstorm',\n",
    "    12: 'Light sleet showers',\n",
    "    13: 'Moderate sleet showers',\n",
    "    14: 'Heavy sleet showers',\n",
    "    15: 'Light snow showers',\n",
    "    16: 'Moderate snow showers',\n",
    "    17: 'Heavy snow showers',\n",
    "    18: 'Light rain',\n",
    "    19: 'Moderate rain',\n",
    "    20: 'Heavy rain',\n",
    "    21: 'Thunder',\n",
    "    22: 'Light sleet',\n",
    "    23: 'Moderate sleet',\n",
    "    24: 'Heavy sleet',\n",
    "    25: 'Light snowfall',\n",
    "    26: 'Moderate snowfall',\n",
    "    27: 'Heavy snowfall', \n",
    "}"
   ]
  },
  {
   "cell_type": "code",
   "execution_count": 376,
   "metadata": {},
   "outputs": [],
   "source": [
    "# Adding weather status as a variabel\n",
    "weather_stats = 0\n",
    "for i in result['timeSeries'][0]['parameters']:\n",
    "  if(i['name'] == 'Wsymb2'):\n",
    "    weather_stats = i['values']\n",
    "    weather_stats = str(weather_stats).strip('[]')\n",
    "    weather_stats = float(weather_stats)\n",
    "    weather_stats = round(weather_stats)\n",
    "\n",
    "weather_type = ''\n",
    "for i in weather_symbols:\n",
    "  if(weather_stats == i):\n",
    "    weather_type = weather_symbols[i]"
   ]
  },
  {
   "cell_type": "code",
   "execution_count": 377,
   "metadata": {},
   "outputs": [],
   "source": [
    "def weather_emoji(weather_stats):\n",
    "  emoji = ''\n",
    "  if(weather_stats == 1):\n",
    "    emoji = '☀️'\n",
    "  elif(weather_stats == 2):\n",
    "    emoji = '⛅'\n",
    "  elif(weather_stats == 3 or 4 or 5 or 6):\n",
    "    emoji = '☁️'\n",
    "  elif(weather_stats == 7):\n",
    "    emoji = '🌫️'\n",
    "  elif(weather_stats == range(8, 20)):\n",
    "    emoji = '🌧️'\n",
    "  elif(weather_stats == 21):\n",
    "    emoji = '🌩️'\n",
    "  elif(weather_stats == range(22, 27)):\n",
    "    emoji = '❄️'\n",
    "\n",
    "  return emoji    \n",
    "\n",
    "weather_stats_emoji = weather_emoji(weather_stats)"
   ]
  },
  {
   "cell_type": "markdown",
   "metadata": {},
   "source": [
    "<a id=\"weather\"></a>"
   ]
  },
  {
   "cell_type": "code",
   "execution_count": 378,
   "metadata": {},
   "outputs": [
    {
     "data": {
      "text/html": [
       "\n",
       "\n",
       "<link href=\"https://fonts.googleapis.com/css2?family=Calligraffitti&family=Lexend+Tera&display=swap\" rel=\"stylesheet\"> \n",
       "\n",
       "<style>\n",
       ".header {\n",
       "    font-family: 'Calligraffitti', cursive;\n",
       "    font-family: 'Lexend Tera', sans-serif;\n",
       "    text-align: center;\n",
       "    font-weight: bold;\n",
       "    font-size: 23px;\n",
       "    color: #8D4E85;\n",
       "}\n",
       "</style>\n",
       "\n",
       "<div class=\"header\">\n",
       "  <h2>Today's Weather</h2>\n",
       "</div>\n",
       "\n",
       "\n"
      ],
      "text/plain": [
       "<IPython.core.display.HTML object>"
      ]
     },
     "execution_count": 378,
     "metadata": {},
     "output_type": "execute_result"
    }
   ],
   "source": [
    "HTML(\"\"\"\n",
    "\n",
    "<link href=\"https://fonts.googleapis.com/css2?family=Calligraffitti&family=Lexend+Tera&display=swap\" rel=\"stylesheet\"> \n",
    "\n",
    "<style>\n",
    ".header {\n",
    "    font-family: 'Calligraffitti', cursive;\n",
    "    font-family: 'Lexend Tera', sans-serif;\n",
    "    text-align: center;\n",
    "    font-weight: bold;\n",
    "    font-size: 23px;\n",
    "    color: #8D4E85;\n",
    "}\n",
    "</style>\n",
    "\n",
    "<div class=\"header\">\n",
    "  <h2>Today's Weather</h2>\n",
    "</div>\n",
    "\n",
    "\n",
    "\"\"\")"
   ]
  },
  {
   "cell_type": "code",
   "execution_count": 379,
   "metadata": {},
   "outputs": [
    {
     "data": {
      "text/markdown": [
       "<h1><center> ⛅&emsp; &emsp;  🌡 21.6 ℃ &emsp;&emsp; 🌬️ 3.4 m/s  </center></h1> "
      ],
      "text/plain": [
       "<IPython.core.display.Markdown object>"
      ]
     },
     "execution_count": 379,
     "metadata": {},
     "output_type": "execute_result"
    }
   ],
   "source": [
    "md(f\"<h1><center> {weather_stats_emoji}&emsp; &emsp;  🌡 {temperature} ℃ &emsp;&emsp; 🌬️ {wind} m/s  </center></h1> \")  "
   ]
  },
  {
   "cell_type": "markdown",
   "metadata": {},
   "source": [
    "<h2 style=\"background-color:#8D4E85; color: #8D4E85;\"><center>S</center></h2>"
   ]
  },
  {
   "cell_type": "markdown",
   "metadata": {},
   "source": [
    "<br><br><br>"
   ]
  },
  {
   "cell_type": "markdown",
   "metadata": {},
   "source": [
    "<a id=\"word_cloud\"></a>"
   ]
  },
  {
   "cell_type": "code",
   "execution_count": 380,
   "metadata": {},
   "outputs": [
    {
     "data": {
      "image/png": "[encoded data removed]",
      "text/plain": [
       "<Figure size 1440x1440 with 1 Axes>"
      ]
     },
     "metadata": {},
     "output_type": "display_data"
    }
   ],
   "source": [
    "text = df.Skatepark.values\n",
    "text = \" \".join(text)\n",
    "\n",
    "stopwords = set(STOPWORDS) \n",
    "stopwords.update([\"skatepark\", \"park\"])\n",
    "\n",
    "wordcloud = WordCloud(\n",
    "stopwords = stopwords,\n",
    "width = 2000,\n",
    "height = 1000,\n",
    "collocations=False,\n",
    "background_color = 'white').generate(str(text))\n",
    "fig = plt.figure(\n",
    "figsize = (20, 20))\n",
    "\n",
    "plt.title('The bigger the word, the more popular is the skatepark', fontsize=20)\n",
    "\n",
    "plt.imshow(wordcloud, interpolation='bilinear')\n",
    "plt.axis(\"off\");"
   ]
  },
  {
   "cell_type": "markdown",
   "metadata": {},
   "source": [
    "[Top of page](#top)"
   ]
  },
  {
   "cell_type": "markdown",
   "metadata": {},
   "source": [
    "<h2 style=\"background-color:#8D4E85; color: #8D4E85;\"><center>S</center></h2>"
   ]
  },
  {
   "cell_type": "markdown",
   "metadata": {},
   "source": [
    "<a id=\"heatmap\"></a>"
   ]
  },
  {
   "cell_type": "code",
   "execution_count": 381,
   "metadata": {},
   "outputs": [
    {
     "data": {
      "text/html": [
       "\n",
       "\n",
       "<link href=\"https://fonts.googleapis.com/css2?family=Calligraffitti&family=Lexend+Tera&display=swap\" rel=\"stylesheet\"> \n",
       "\n",
       "<style>\n",
       ".skatepark_hours_header {\n",
       "    font-family: 'Calligraffitti', cursive;\n",
       "    font-family: 'Lexend Tera', sans-serif;\n",
       "    font-weight: bold;\n",
       "    font-size: 23px;\n",
       "    color: #8D4E85;\n",
       "    text-align: center;\n",
       "}\n",
       "\n",
       ".text{\n",
       "    font-family: 'Calligraffitti', cursive;\n",
       "    font-family: 'Lexend Tera', sans-serif;\n",
       "    font-weight: bold;\n",
       "    font-size: 15px;\n",
       "    text-align: center;\n",
       " \n",
       "\n",
       "}\n",
       "</style>\n",
       "\n",
       "<div class=\"skatepark_hours_header\">\n",
       "  <h2>Most visited skatepark hours</h2>\n",
       "</div>\n",
       "\n",
       "<br>\n",
       "\n",
       "<div class = \"text\">\n",
       "  Average check-ins for every weekday at that specific hour.<br> \n",
       "  Help us add more data for the heatmap in <a href=\"https://forms.gle/bnrpm9Uh3p7dtmtU9\" target=\"_blank\">THIS</a> form.\n",
       "</div>\n",
       "\n",
       "\n"
      ],
      "text/plain": [
       "<IPython.core.display.HTML object>"
      ]
     },
     "execution_count": 381,
     "metadata": {},
     "output_type": "execute_result"
    }
   ],
   "source": [
    "HTML(\"\"\"\n",
    "\n",
    "<link href=\"https://fonts.googleapis.com/css2?family=Calligraffitti&family=Lexend+Tera&display=swap\" rel=\"stylesheet\"> \n",
    "\n",
    "<style>\n",
    ".skatepark_hours_header {\n",
    "    font-family: 'Calligraffitti', cursive;\n",
    "    font-family: 'Lexend Tera', sans-serif;\n",
    "    font-weight: bold;\n",
    "    font-size: 23px;\n",
    "    color: #8D4E85;\n",
    "    text-align: center;\n",
    "}\n",
    "\n",
    ".text{\n",
    "    font-family: 'Calligraffitti', cursive;\n",
    "    font-family: 'Lexend Tera', sans-serif;\n",
    "    font-weight: bold;\n",
    "    font-size: 15px;\n",
    "    text-align: center;\n",
    " \n",
    "\n",
    "}\n",
    "</style>\n",
    "\n",
    "<div class=\"skatepark_hours_header\">\n",
    "  <h2>Most visited skatepark hours</h2>\n",
    "</div>\n",
    "\n",
    "<br>\n",
    "\n",
    "<div class = \"text\">\n",
    "  Average check-ins for every weekday at that specific hour.<br> \n",
    "  Help us add more data for the heatmap in <a href=\"https://forms.gle/bnrpm9Uh3p7dtmtU9\" target=\"_blank\">THIS</a> form.\n",
    "</div>\n",
    "\n",
    "\n",
    "\"\"\")"
   ]
  },
  {
   "cell_type": "code",
   "execution_count": 382,
   "metadata": {},
   "outputs": [],
   "source": [
    "# Make a copy of the DataFrame\n",
    "df_heatmap = df.copy()"
   ]
  },
  {
   "cell_type": "code",
   "execution_count": 383,
   "metadata": {},
   "outputs": [],
   "source": [
    "# Counting every check-in for every hour \n",
    "df_heatmap = df_heatmap.groupby([pd.Grouper(key='Timestamp',freq='H'),df_heatmap.Skatepark]).size().reset_index(name='Count')"
   ]
  },
  {
   "cell_type": "code",
   "execution_count": 384,
   "metadata": {},
   "outputs": [],
   "source": [
    "# Add weekday as a new column\n",
    "df_heatmap['Weekday'] = df_heatmap['Timestamp'].dt.day_name()"
   ]
  },
  {
   "cell_type": "code",
   "execution_count": 385,
   "metadata": {},
   "outputs": [],
   "source": [
    "# Add hour as a new column\n",
    "df_heatmap['Hour'] = df_heatmap['Timestamp'].dt.hour"
   ]
  },
  {
   "cell_type": "code",
   "execution_count": 386,
   "metadata": {},
   "outputs": [],
   "source": [
    "# Make the Weekday column a categorical and specify the order to use.\n",
    "df_heatmap['Weekday'] = pd.Categorical(df_heatmap['Weekday'], ['Monday', 'Tuesday', 'Wednesday', 'Thursday', 'Friday', 'Saturday', 'Sunday'])"
   ]
  },
  {
   "cell_type": "code",
   "execution_count": 387,
   "metadata": {},
   "outputs": [],
   "source": [
    "# Sort values by Weekday as specified in pd.Categorical\n",
    "df_heatmap.sort_values(\"Weekday\");"
   ]
  },
  {
   "cell_type": "code",
   "execution_count": 388,
   "metadata": {},
   "outputs": [],
   "source": [
    "# Filtering new DataFrames for different skateparks\n",
    "stapeln = df_heatmap[df_heatmap['Skatepark'] == 'Stapelbäddsparken']\n",
    "folkets = df_heatmap[df_heatmap['Skatepark'] == 'Folkets Park']\n",
    "kroks = df_heatmap[df_heatmap['Skatepark'] == 'Kroksbäck Skatepark']\n",
    "sibbarp = df_heatmap[df_heatmap['Skatepark'] == 'Sibbarp Skatepark']\n",
    "oxie = df_heatmap[df_heatmap['Skatepark'] == 'Oxie Skatepark']"
   ]
  },
  {
   "cell_type": "code",
   "execution_count": 389,
   "metadata": {},
   "outputs": [
    {
     "data": {
      "application/vnd.jupyter.widget-view+json": {
       "model_id": "7809f31889b9474e95ba8f57121f46e4",
       "version_major": 2,
       "version_minor": 0
      },
      "text/plain": [
       "ToggleButton(value=False, description='Show/Hide guide')"
      ]
     },
     "metadata": {},
     "output_type": "display_data"
    },
    {
     "data": {
      "application/vnd.jupyter.widget-view+json": {
       "model_id": "cf40428c4c3241b9a894c0ded325156c",
       "version_major": 2,
       "version_minor": 0
      },
      "text/plain": [
       "Output(layout=Layout(border='1px solid black'))"
      ]
     },
     "metadata": {},
     "output_type": "display_data"
    }
   ],
   "source": [
    "### Insert button to toggle between show/hide image ###\n",
    "toggle = widgets.ToggleButton(description='Show/Hide guide')\n",
    "out = widgets.Output(layout=widgets.Layout(border = '1px solid black'))\n",
    "\n",
    "def on_click_show_image(obj):\n",
    "  with out:\n",
    "    if obj['new']:\n",
    "      display(img)\n",
    "    else:\n",
    "      out.clear_output()\n",
    "toggle.observe(on_click_show_image, 'value')\n",
    "display(toggle)\n",
    "display(out)"
   ]
  },
  {
   "cell_type": "code",
   "execution_count": 390,
   "metadata": {},
   "outputs": [],
   "source": [
    "# Function to display heatmap in drop-down box\n",
    "def display_heatmap(heatmap_df):\n",
    "\n",
    "  # Pandas pivot \n",
    "  heatmap_data = pd.pivot_table(heatmap_df, values = 'Count',\n",
    "                     index=['Weekday'], \n",
    "                     columns='Hour').fillna(0)\n",
    "\n",
    "  f, ax = plt.subplots(figsize=(15, 10))\n",
    "\n",
    "  # Seaborn heatmap \n",
    "  ax = sns.heatmap(heatmap_data, annot=True, fmt='g',\n",
    "            linewidths=1.1, linecolor='black', cmap=\"RdPu\",\n",
    "            square=True,\n",
    "            cbar_kws=dict(use_gridspec=False,location=\"top\", label=\"Average number of visitors (low to high)\") )\n",
    "  \n",
    "  plt.title('Most Visited Skatepark Hours', fontsize=16)\n",
    "  plt.yticks(rotation=30, fontsize=15)\n",
    "  plt.xticks(fontsize=15)\n",
    "  plt.ylabel(None)\n",
    "  plt.xlabel('Hour of the day', fontsize=15);"
   ]
  },
  {
   "cell_type": "code",
   "execution_count": 391,
   "metadata": {},
   "outputs": [
    {
     "data": {
      "application/vnd.jupyter.widget-view+json": {
       "model_id": "08c32c3b41a04eb5b47cee19167130f1",
       "version_major": 2,
       "version_minor": 0
      },
      "text/plain": [
       "interactive(children=(Dropdown(description='Skatepark', options=('Stapelbäddsparken', 'Folkets Park', 'Sibbarp…"
      ]
     },
     "metadata": {},
     "output_type": "display_data"
    }
   ],
   "source": [
    "@widgets.interact\n",
    "\n",
    "# Filter skateparks after the unique values in the column\n",
    "def interactive_test( Skatepark = df_heatmap['Skatepark'].unique()):\n",
    "\n",
    "  # Display different DataFrames for the heatmap depending on skatepark\n",
    "  if(Skatepark == 'Stapelbäddsparken'):\n",
    "    display_heatmap(stapeln)\n",
    "\n",
    "  if(Skatepark == 'Folkets Park'):\n",
    "    display_heatmap(folkets)\n",
    "\n",
    "  if(Skatepark == 'Kroksbäck Skatepark'):\n",
    "    display_heatmap(kroks)\n",
    "\n",
    "  if(Skatepark == 'Sibbarp Skatepark'):\n",
    "    display_heatmap(sibbarp)\n",
    "\n",
    "  if(Skatepark == 'Oxie Skatepark'):\n",
    "    display_heatmap(oxie)"
   ]
  },
  {
   "cell_type": "markdown",
   "metadata": {},
   "source": [
    "[Top of page](#top)"
   ]
  },
  {
   "cell_type": "markdown",
   "metadata": {},
   "source": [
    "<h2 style=\"background-color:#8D4E85; color: #8D4E85;\"><center>S</center></h2>"
   ]
  },
  {
   "cell_type": "markdown",
   "metadata": {},
   "source": [
    "<a id=\"visitors\"></a>"
   ]
  },
  {
   "cell_type": "code",
   "execution_count": 392,
   "metadata": {},
   "outputs": [
    {
     "data": {
      "text/html": [
       "\n",
       "\n",
       "<link href=\"https://fonts.googleapis.com/css2?family=Calligraffitti&family=Lexend+Tera&display=swap\" rel=\"stylesheet\"> \n",
       "\n",
       "<style>\n",
       ".total_visitors_header {\n",
       "    font-family: 'Calligraffitti', cursive;\n",
       "    font-family: 'Lexend Tera', sans-serif;\n",
       "    font-weight: bold;\n",
       "    font-size: 23px;\n",
       "    color: #8D4E85;\n",
       "    text-align: center;\n",
       "}\n",
       "\n",
       ".text{\n",
       "    font-family: 'Calligraffitti', cursive;\n",
       "    font-family: 'Lexend Tera', sans-serif;\n",
       "    font-weight: bold;\n",
       "    font-size: 15px;\n",
       "    text-align: center;\n",
       " \n",
       "\n",
       "}\n",
       "</style>\n",
       "\n",
       "<div class=\"total_visitors_header\">\n",
       "  <h2>Total visitors</h2>\n",
       "</div>\n",
       "\n",
       "<br>\n",
       "\n",
       "<div class = \"text\">\n",
       "   Total number of visitors in 5 different skateparks in Malmö.\n",
       "</div>\n",
       "\n",
       "\n"
      ],
      "text/plain": [
       "<IPython.core.display.HTML object>"
      ]
     },
     "execution_count": 392,
     "metadata": {},
     "output_type": "execute_result"
    }
   ],
   "source": [
    "HTML(\"\"\"\n",
    "\n",
    "<link href=\"https://fonts.googleapis.com/css2?family=Calligraffitti&family=Lexend+Tera&display=swap\" rel=\"stylesheet\"> \n",
    "\n",
    "<style>\n",
    ".total_visitors_header {\n",
    "    font-family: 'Calligraffitti', cursive;\n",
    "    font-family: 'Lexend Tera', sans-serif;\n",
    "    font-weight: bold;\n",
    "    font-size: 23px;\n",
    "    color: #8D4E85;\n",
    "    text-align: center;\n",
    "}\n",
    "\n",
    ".text{\n",
    "    font-family: 'Calligraffitti', cursive;\n",
    "    font-family: 'Lexend Tera', sans-serif;\n",
    "    font-weight: bold;\n",
    "    font-size: 15px;\n",
    "    text-align: center;\n",
    " \n",
    "\n",
    "}\n",
    "</style>\n",
    "\n",
    "<div class=\"total_visitors_header\">\n",
    "  <h2>Total visitors</h2>\n",
    "</div>\n",
    "\n",
    "<br>\n",
    "\n",
    "<div class = \"text\">\n",
    "   Total number of visitors in 5 different skateparks in Malmö.\n",
    "</div>\n",
    "\n",
    "\n",
    "\"\"\")"
   ]
  },
  {
   "cell_type": "code",
   "execution_count": 393,
   "metadata": {},
   "outputs": [],
   "source": [
    "# Convert object to int\n",
    "skateparks_to_value = df['Skatepark'].value_counts()\n",
    "# skateparks_to_value"
   ]
  },
  {
   "cell_type": "code",
   "execution_count": 394,
   "metadata": {},
   "outputs": [
    {
     "data": {
      "image/png": "[encoded data removed]",
      "text/plain": [
       "<Figure size 1080x576 with 1 Axes>"
      ]
     },
     "metadata": {},
     "output_type": "display_data"
    }
   ],
   "source": [
    "# Create diagram and decide color/size\n",
    "plt.figure(figsize=(15, 8))\n",
    "sns.set(style=\"white\") # Set background style.\n",
    "# Figure background-'/face-' color  =  ax.figure.facecolor:'green'\n",
    "ax = sns.barplot(skateparks_to_value.index, skateparks_to_value.values, palette='deep')\n",
    "plt.title('Skatepark data between 2020/05/28 - 2020/06/15', fontsize=20)\n",
    "plt.ylabel('Total number of visitors', fontsize=17);\n",
    "\n",
    "# Change font-size within barplot/histogram --> .tick_params(labelsize=5)\n",
    "ax.tick_params(labelsize=14)\n",
    "\n",
    "# Add numbers to bars\n",
    "for p in ax.patches:\n",
    "             ax.annotate(\"%.2f\" % p.get_height(), (p.get_x() + p.get_width() / 2., p.get_height()),\n",
    "                 ha='center', va='center', fontsize=17, color='purple', xytext=(0, 20),\n",
    "                 textcoords='offset points')\n",
    "_ = ax.set_ylim(0,70) # To make space for the annotations, Set min/max value on y-axis"
   ]
  },
  {
   "cell_type": "markdown",
   "metadata": {},
   "source": [
    "[Top of page](#top)"
   ]
  },
  {
   "cell_type": "markdown",
   "metadata": {},
   "source": [
    "<h2 style=\"background-color:#8D4E85; color: #8D4E85;\"><center>S</center></h2>"
   ]
  },
  {
   "cell_type": "markdown",
   "metadata": {},
   "source": [
    "<a id=\"sport_age\"></a>"
   ]
  },
  {
   "cell_type": "code",
   "execution_count": 395,
   "metadata": {},
   "outputs": [
    {
     "data": {
      "text/html": [
       "\n",
       "\n",
       "<link href=\"https://fonts.googleapis.com/css2?family=Calligraffitti&family=Lexend+Tera&display=swap\" rel=\"stylesheet\"> \n",
       "\n",
       "<style>\n",
       ".sport_age_header {\n",
       "    font-family: 'Calligraffitti', cursive;\n",
       "    font-family: 'Lexend Tera', sans-serif;\n",
       "    font-weight: bold;\n",
       "    font-size: 23px;\n",
       "    color: #8D4E85;\n",
       "    text-align: center;\n",
       "}\n",
       "\n",
       ".sport_age_text{\n",
       "    font-family: 'Calligraffitti', cursive;\n",
       "    font-family: 'Lexend Tera', sans-serif;\n",
       "    font-weight: bold;\n",
       "    font-size: 15px;\n",
       "    text-align: center;\n",
       " \n",
       "\n",
       "}\n",
       "</style>\n",
       "\n",
       "<div class=\"sport_age_header\">\n",
       "  <h2>Sport vs Age Group</h2>\n",
       "</div>\n",
       "\n",
       "<br>\n",
       "\n",
       "<div class = \"sport_age_text\">\n",
       "See popularity of the different sports compared to every age group below.\n",
       "   \n",
       "</div>\n",
       "\n",
       "\n"
      ],
      "text/plain": [
       "<IPython.core.display.HTML object>"
      ]
     },
     "execution_count": 395,
     "metadata": {},
     "output_type": "execute_result"
    }
   ],
   "source": [
    "HTML(\"\"\"\n",
    "\n",
    "<link href=\"https://fonts.googleapis.com/css2?family=Calligraffitti&family=Lexend+Tera&display=swap\" rel=\"stylesheet\"> \n",
    "\n",
    "<style>\n",
    ".sport_age_header {\n",
    "    font-family: 'Calligraffitti', cursive;\n",
    "    font-family: 'Lexend Tera', sans-serif;\n",
    "    font-weight: bold;\n",
    "    font-size: 23px;\n",
    "    color: #8D4E85;\n",
    "    text-align: center;\n",
    "}\n",
    "\n",
    ".sport_age_text{\n",
    "    font-family: 'Calligraffitti', cursive;\n",
    "    font-family: 'Lexend Tera', sans-serif;\n",
    "    font-weight: bold;\n",
    "    font-size: 15px;\n",
    "    text-align: center;\n",
    " \n",
    "\n",
    "}\n",
    "</style>\n",
    "\n",
    "<div class=\"sport_age_header\">\n",
    "  <h2>Sport vs Age Group</h2>\n",
    "</div>\n",
    "\n",
    "<br>\n",
    "\n",
    "<div class = \"sport_age_text\">\n",
    "See popularity of the different sports compared to every age group below.\n",
    "   \n",
    "</div>\n",
    "\n",
    "\n",
    "\"\"\")"
   ]
  },
  {
   "cell_type": "code",
   "execution_count": 396,
   "metadata": {},
   "outputs": [],
   "source": [
    "df_age_sport = df.copy()"
   ]
  },
  {
   "cell_type": "code",
   "execution_count": 397,
   "metadata": {},
   "outputs": [],
   "source": [
    "# Counting every checkin for every hour and counting\n",
    "df_age_sport = df_age_sport.groupby([pd.Grouper(key='Sport'),df_age_sport['Age group']]).size().reset_index(name='Count')"
   ]
  },
  {
   "cell_type": "code",
   "execution_count": 398,
   "metadata": {},
   "outputs": [],
   "source": [
    "df_age_sport['Age group'] = pd.Categorical(df_age_sport['Age group'], ['0-5', '6-12', '13-19', '20-29', '30-39', '40-49', '50-59', '60+'])\n",
    "df_age_sport.sort_values(\"Age group\");"
   ]
  },
  {
   "cell_type": "code",
   "execution_count": 399,
   "metadata": {},
   "outputs": [
    {
     "data": {
      "image/png": "[encoded data removed]",
      "text/plain": [
       "<Figure size 1080x720 with 1 Axes>"
      ]
     },
     "metadata": {},
     "output_type": "display_data"
    }
   ],
   "source": [
    "sns.set(rc={\"font.style\":\"normal\",\n",
    "            \"axes.facecolor\":'lightblue',\n",
    "            \"figure.facecolor\":'lightblue',\n",
    "            \"text.color\":\"black\",\n",
    "            \"xtick.color\":\"black\",\n",
    "            \"ytick.color\":\"black\",\n",
    "            \"axes.labelcolor\":\"black\",\n",
    "            \"axes.grid\":False,\n",
    "            'axes.labelsize':20,\n",
    "            'figure.figsize':(15.0, 10.0),\n",
    "            'xtick.labelsize':20,\n",
    "            'font.size':30,\n",
    "            'ytick.labelsize':20})\n",
    "\n",
    "sns.barplot(x=\"Age group\", y='Count', hue='Sport', data=df_age_sport, palette='Accent_r',\n",
    "            edgecolor='darkblue', saturation=1, fill=True, hatch='/', \n",
    "                  linewidth=2)\n",
    "\n",
    "plt.xlabel('Age groups')  \n",
    "plt.ylabel('Number of persons')  \n",
    "plt.title('Number of people in different sports divided by age groups');"
   ]
  },
  {
   "cell_type": "markdown",
   "metadata": {},
   "source": [
    "[Top of page](#top)"
   ]
  },
  {
   "cell_type": "markdown",
   "metadata": {},
   "source": [
    "<h2 style=\"background-color:#8D4E85; color: #8D4E85;\"><center>S</center></h2>"
   ]
  },
  {
   "cell_type": "markdown",
   "metadata": {},
   "source": [
    "<a id=\"map\"></a>"
   ]
  },
  {
   "cell_type": "code",
   "execution_count": 400,
   "metadata": {},
   "outputs": [
    {
     "data": {
      "text/html": [
       "\n",
       "\n",
       "<link href=\"https://fonts.googleapis.com/css2?family=Calligraffitti&family=Lexend+Tera&display=swap\" rel=\"stylesheet\"> \n",
       "\n",
       "<style>\n",
       ".map_header {\n",
       "    font-family: 'Calligraffitti', cursive;\n",
       "    font-family: 'Lexend Tera', sans-serif;\n",
       "    font-weight: bold;\n",
       "    font-size: 23px;\n",
       "    color: #8D4E85;\n",
       "    text-align: center;\n",
       "}\n",
       "\n",
       ".text{\n",
       "    font-family: 'Calligraffitti', cursive;\n",
       "    font-family: 'Lexend Tera', sans-serif;\n",
       "    font-weight: bold;\n",
       "    font-size: 15px;\n",
       "    text-align: center;\n",
       " \n",
       "\n",
       "}\n",
       "</style>\n",
       "\n",
       "<div class=\"map_header\">\n",
       "  <h2>Map: Skateparks in Malmö</h2>\n",
       "</div>\n",
       "\n",
       "<br>\n",
       "\n",
       "<div class = \"text\">\n",
       "   Find your way to 5 skateparks in Malmö.<br>\n",
       "   Link to Google Maps can be found in each pin on the map.\n",
       "</div>\n",
       "\n",
       "\n"
      ],
      "text/plain": [
       "<IPython.core.display.HTML object>"
      ]
     },
     "execution_count": 400,
     "metadata": {},
     "output_type": "execute_result"
    }
   ],
   "source": [
    "HTML(\"\"\"\n",
    "\n",
    "<link href=\"https://fonts.googleapis.com/css2?family=Calligraffitti&family=Lexend+Tera&display=swap\" rel=\"stylesheet\"> \n",
    "\n",
    "<style>\n",
    ".map_header {\n",
    "    font-family: 'Calligraffitti', cursive;\n",
    "    font-family: 'Lexend Tera', sans-serif;\n",
    "    font-weight: bold;\n",
    "    font-size: 23px;\n",
    "    color: #8D4E85;\n",
    "    text-align: center;\n",
    "}\n",
    "\n",
    ".text{\n",
    "    font-family: 'Calligraffitti', cursive;\n",
    "    font-family: 'Lexend Tera', sans-serif;\n",
    "    font-weight: bold;\n",
    "    font-size: 15px;\n",
    "    text-align: center;\n",
    " \n",
    "\n",
    "}\n",
    "</style>\n",
    "\n",
    "<div class=\"map_header\">\n",
    "  <h2>Map: Skateparks in Malmö</h2>\n",
    "</div>\n",
    "\n",
    "<br>\n",
    "\n",
    "<div class = \"text\">\n",
    "   Find your way to 5 skateparks in Malmö.<br>\n",
    "   Link to Google Maps can be found in each pin on the map.\n",
    "</div>\n",
    "\n",
    "\n",
    "\"\"\")"
   ]
  },
  {
   "cell_type": "markdown",
   "metadata": {},
   "source": [
    "[Top of page](#top)"
   ]
  },
  {
   "cell_type": "code",
   "execution_count": 401,
   "metadata": {},
   "outputs": [],
   "source": [
    "stapelbäddsparken_coordinates = [55.613781,12.983913]\n",
    "#stapelbäddsparken_coordinates[1]"
   ]
  },
  {
   "cell_type": "code",
   "execution_count": 402,
   "metadata": {},
   "outputs": [],
   "source": [
    "# Skatepark coordinates, stored as dictionary\n",
    "\n",
    "coordinates_dictionary = {\n",
    "    (55.613781,12.983913): '<a href=\"https://www.google.se/maps/place/Stapelb%C3%A4ddsparken+Skatepark/@55.6135451,12.9816805,17z/data=!3m1!4b1!4m5!3m4!1s0x4653a5ed00b7ea67:0x53c9bf8f0eae32d8!8m2!3d55.6135451!4d12.9838693\" target=\"_blank\" content=\"text/html\" charset=\"UTF-32\" >Stapelb&auml;ddsparken</a>',\n",
    "    (55.571860, 12.976309): '<a href=\"https://www.google.se/maps/place/Kroksb%C3%A4ck+Skatepark/@55.5717058,12.9741414,17z/data=!3m1!4b1!4m5!3m4!1s0x4653a12d7b6da66b:0x66c9bd1cb8c35197!8m2!3d55.5717028!4d12.9763301\" target=\"_blank\">Kroksb&auml;ck Skatepark</a>',\n",
    "    (55.5920945, 13.0127095): '<a href=\"https://www.google.se/maps/search/Folkets+Park+ramp/@55.5933556,13.0113804,17z/data=!3m1!4b1\" target=\"_blank\">Folkets Park</a>',\n",
    "    (55.574826, 12.908757): '<a href=\"https://www.google.se/maps/place/Sibbarp+Skate+%26+Activity+Park/@55.5747497,12.9065565,17z/data=!3m1!4b1!4m5!3m4!1s0x4653a6f891c6733d:0xe77b7f75e3d7c49!8m2!3d55.5747467!4d12.9087452\" target=\"_blank\">Sibbarp Skatepark</a>',\n",
    "    (55.541088, 13.103231): '<a href=\"https://www.google.se/maps/place/Oxie+Skatepark/@55.5409392,13.1010426,17z/data=!3m1!4b1!4m5!3m4!1s0x46539f83f61349ef:0x60a87a2f2a6ccf0f!8m2!3d55.5409362!4d13.1032313\" target=\"_blank\">Oxie Skatepark</a>',\n",
    "}"
   ]
  },
  {
   "cell_type": "code",
   "execution_count": 403,
   "metadata": {
    "scrolled": true
   },
   "outputs": [
    {
     "data": {
      "text/html": [
       "<div style=\"width:100%;\"><div style=\"position:relative;width:100%;height:0;padding-bottom:60%;\"><span style=\"color:#565656\">Make this Notebook Trusted to load map: File -> Trust Notebook</span><iframe src=\"about:blank\" style=\"position:absolute;width:100%;height:100%;left:0;top:0;border:none !important;\" data-html=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 onload=\"this.contentDocument.open();this.contentDocument.write(atob(this.getAttribute('data-html')));this.contentDocument.close();\" allowfullscreen webkitallowfullscreen mozallowfullscreen></iframe></div></div>"
      ],
      "text/plain": [
       "<folium.folium.Map at 0x1d774d34f08>"
      ]
     },
     "execution_count": 403,
     "metadata": {},
     "output_type": "execute_result"
    }
   ],
   "source": [
    "map = folium.Map(width=1000, location = [55.614709,13.004293], tiles = \"OpenStreetMap\", zoom_start = 12)\n",
    "\n",
    "# Looping values with keys with items() method and adding to map\n",
    "for key, value in coordinates_dictionary.items():\n",
    "    #print(key, value)\n",
    "    folium.Marker( key, popup=\"Skatepark: \" + str(value), icon=folium.Icon(color='black', \n",
    "                                                                           icon_color='white', \n",
    "                                                                           icon='angellist', angle=0, \n",
    "                                                                           prefix='fa') ).add_to(map) \n",
    "    \n",
    "# Display map\n",
    "map"
   ]
  },
  {
   "cell_type": "markdown",
   "metadata": {},
   "source": [
    "<h2 style=\"background-color:#8D4E85; color: #8D4E85;\"><center>S</center></h2>"
   ]
  },
  {
   "cell_type": "code",
   "execution_count": null,
   "metadata": {},
   "outputs": [],
   "source": []
  },
  {
   "cell_type": "code",
   "execution_count": null,
   "metadata": {},
   "outputs": [],
   "source": []
  }
 ],
 "metadata": {
  "colab": {
   "authorship_tag": "ABX9TyOjIvh08AF4WrpvNwy1LnwP",
   "include_colab_link": true,
   "name": "map.ipynb",
   "provenance": []
  },
  "kernelspec": {
   "display_name": "Python 3",
   "language": "python",
   "name": "python3"
  },
  "language_info": {
   "codemirror_mode": {
    "name": "ipython",
    "version": 3
   },
   "file_extension": ".py",
   "mimetype": "text/x-python",
   "name": "python",
   "nbconvert_exporter": "python",
   "pygments_lexer": "ipython3",
   "version": "3.7.7"
  }
 },
 "nbformat": 4,
 "nbformat_minor": 1
}
