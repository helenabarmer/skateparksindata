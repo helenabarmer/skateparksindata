{
 "cells": [
  {
   "cell_type": "code",
   "execution_count": 198,
   "metadata": {},
   "outputs": [],
   "source": [
    "import pandas as pd\n",
    "import seaborn as sns\n",
    "import geopandas\n",
    "import folium\n",
    "import matplotlib.pyplot as plt\n",
    "from shapely.geometry import Point\n",
    "\n",
    "\n",
    "#print(\"All libraries imported. \")"
   ]
  },
  {
   "cell_type": "code",
   "execution_count": 202,
   "metadata": {},
   "outputs": [
    {
     "data": {
      "text/html": [
       "\n",
       "<style>\n",
       ".output_png {\n",
       "    display: table-cell;\n",
       "    text-align: center;\n",
       "    vertical-align: middle;\n",
       "}\n",
       "</style>\n"
      ],
      "text/plain": [
       "<IPython.core.display.HTML object>"
      ]
     },
     "execution_count": 202,
     "metadata": {},
     "output_type": "execute_result"
    }
   ],
   "source": [
    "from IPython.core.display import HTML\n",
    "HTML(\"\"\"\n",
    "<style>\n",
    ".output_png {\n",
    "    display: table-cell;\n",
    "    text-align: center;\n",
    "    vertical-align: middle;\n",
    "}\n",
    "</style>\n",
    "\"\"\")"
   ]
  },
  {
   "cell_type": "markdown",
   "metadata": {
    "colab_type": "text",
    "id": "JoqpJ3ffzao0"
   },
   "source": [
    "# **Skateparks in Malmö**\n",
    "*5 skateparks in Malmö.*"
   ]
  },
  {
   "cell_type": "code",
   "execution_count": 203,
   "metadata": {},
   "outputs": [],
   "source": [
    "stapelbäddsparken_coordinates = [55.613781,12.983913]\n",
    "#stapelbäddsparken_coordinates[1]"
   ]
  },
  {
   "cell_type": "code",
   "execution_count": 204,
   "metadata": {},
   "outputs": [],
   "source": [
    "# Skatepark coordinates, stored as dictionary\n",
    "\n",
    "coordinates_dictionary = {\n",
    "    (55.613781,12.983913): 'Stapelbaddsparken',\n",
    "    (55.571860, 12.976309): 'Kroksbacks Skatepark',\n",
    "    (55.5920945, 13.0127095): 'Folkets Park',\n",
    "    (55.574826, 12.908757): 'Sibbarp Skatepark',\n",
    "    (55.541088, 13.103231): 'Oxie Skatepark'\n",
    "}"
   ]
  },
  {
   "cell_type": "code",
   "execution_count": 205,
   "metadata": {},
   "outputs": [
    {
     "data": {
      "text/html": [
       "<div style=\"width:100%;\"><div style=\"position:relative;width:100%;height:0;padding-bottom:60%;\"><span style=\"color:#565656\">Make this Notebook Trusted to load map: File -> Trust Notebook</span><iframe src=\"about:blank\" style=\"position:absolute;width:100%;height:100%;left:0;top:0;border:none !important;\" data-html=PCFET0NUWVBFIGh0bWw+CjxoZWFkPiAgICAKICAgIDxtZXRhIGh0dHAtZXF1aXY9ImNvbnRlbnQtdHlwZSIgY29udGVudD0idGV4dC9odG1sOyBjaGFyc2V0PVVURi04IiAvPgogICAgCiAgICAgICAgPHNjcmlwdD4KICAgICAgICAgICAgTF9OT19UT1VDSCA9IGZhbHNlOwogICAgICAgICAgICBMX0RJU0FCTEVfM0QgPSBmYWxzZTsKICAgICAgICA8L3NjcmlwdD4KICAgIAogICAgPHNjcmlwdCBzcmM9Imh0dHBzOi8vY2RuLmpzZGVsaXZyLm5ldC9ucG0vbGVhZmxldEAxLjYuMC9kaXN0L2xlYWZsZXQuanMiPjwvc2NyaXB0PgogICAgPHNjcmlwdCBzcmM9Imh0dHBzOi8vY29kZS5qcXVlcnkuY29tL2pxdWVyeS0xLjEyLjQubWluLmpzIj48L3NjcmlwdD4KICAgIDxzY3JpcHQgc3JjPSJodHRwczovL21heGNkbi5ib290c3RyYXBjZG4uY29tL2Jvb3RzdHJhcC8zLjIuMC9qcy9ib290c3RyYXAubWluLmpzIj48L3NjcmlwdD4KICAgIDxzY3JpcHQgc3JjPSJodHRwczovL2NkbmpzLmNsb3VkZmxhcmUuY29tL2FqYXgvbGlicy9MZWFmbGV0LmF3ZXNvbWUtbWFya2Vycy8yLjAuMi9sZWFmbGV0LmF3ZXNvbWUtbWFya2Vycy5qcyI+PC9zY3JpcHQ+CiAgICA8bGluayByZWw9InN0eWxlc2hlZXQiIGhyZWY9Imh0dHBzOi8vY2RuLmpzZGVsaXZyLm5ldC9ucG0vbGVhZmxldEAxLjYuMC9kaXN0L2xlYWZsZXQuY3NzIi8+CiAgICA8bGluayByZWw9InN0eWxlc2hlZXQiIGhyZWY9Imh0dHBzOi8vbWF4Y2RuLmJvb3RzdHJhcGNkbi5jb20vYm9vdHN0cmFwLzMuMi4wL2Nzcy9ib290c3RyYXAubWluLmNzcyIvPgogICAgPGxpbmsgcmVsPSJzdHlsZXNoZWV0IiBocmVmPSJodHRwczovL21heGNkbi5ib290c3RyYXBjZG4uY29tL2Jvb3RzdHJhcC8zLjIuMC9jc3MvYm9vdHN0cmFwLXRoZW1lLm1pbi5jc3MiLz4KICAgIDxsaW5rIHJlbD0ic3R5bGVzaGVldCIgaHJlZj0iaHR0cHM6Ly9tYXhjZG4uYm9vdHN0cmFwY2RuLmNvbS9mb250LWF3ZXNvbWUvNC42LjMvY3NzL2ZvbnQtYXdlc29tZS5taW4uY3NzIi8+CiAgICA8bGluayByZWw9InN0eWxlc2hlZXQiIGhyZWY9Imh0dHBzOi8vY2RuanMuY2xvdWRmbGFyZS5jb20vYWpheC9saWJzL0xlYWZsZXQuYXdlc29tZS1tYXJrZXJzLzIuMC4yL2xlYWZsZXQuYXdlc29tZS1tYXJrZXJzLmNzcyIvPgogICAgPGxpbmsgcmVsPSJzdHlsZXNoZWV0IiBocmVmPSJodHRwczovL3Jhd2Nkbi5naXRoYWNrLmNvbS9weXRob24tdmlzdWFsaXphdGlvbi9mb2xpdW0vbWFzdGVyL2ZvbGl1bS90ZW1wbGF0ZXMvbGVhZmxldC5hd2Vzb21lLnJvdGF0ZS5jc3MiLz4KICAgIDxzdHlsZT5odG1sLCBib2R5IHt3aWR0aDogMTAwJTtoZWlnaHQ6IDEwMCU7bWFyZ2luOiAwO3BhZGRpbmc6IDA7fTwvc3R5bGU+CiAgICA8c3R5bGU+I21hcCB7cG9zaXRpb246YWJzb2x1dGU7dG9wOjA7Ym90dG9tOjA7cmlnaHQ6MDtsZWZ0OjA7fTwvc3R5bGU+CiAgICAKICAgICAgICAgICAgPG1ldGEgbmFtZT0idmlld3BvcnQiIGNvbnRlbnQ9IndpZHRoPWRldmljZS13aWR0aCwKICAgICAgICAgICAgICAgIGluaXRpYWwtc2NhbGU9MS4wLCBtYXhpbXVtLXNjYWxlPTEuMCwgdXNlci1zY2FsYWJsZT1ubyIgLz4KICAgICAgICAgICAgPHN0eWxlPgogICAgICAgICAgICAgICAgI21hcF8wMjhjMTQ2MTI5ZDY0YjFjYmViZTM4YWI4ZTE4NjQ4MyB7CiAgICAgICAgICAgICAgICAgICAgcG9zaXRpb246IHJlbGF0aXZlOwogICAgICAgICAgICAgICAgICAgIHdpZHRoOiAxMDAwLjBweDsKICAgICAgICAgICAgICAgICAgICBoZWlnaHQ6IDQwMC4wcHg7CiAgICAgICAgICAgICAgICAgICAgbGVmdDogMC4wJTsKICAgICAgICAgICAgICAgICAgICB0b3A6IDAuMCU7CiAgICAgICAgICAgICAgICB9CiAgICAgICAgICAgIDwvc3R5bGU+CiAgICAgICAgCjwvaGVhZD4KPGJvZHk+ICAgIAogICAgCiAgICAgICAgICAgIDxkaXYgY2xhc3M9ImZvbGl1bS1tYXAiIGlkPSJtYXBfMDI4YzE0NjEyOWQ2NGIxY2JlYmUzOGFiOGUxODY0ODMiID48L2Rpdj4KICAgICAgICAKPC9ib2R5Pgo8c2NyaXB0PiAgICAKICAgIAogICAgICAgICAgICB2YXIgbWFwXzAyOGMxNDYxMjlkNjRiMWNiZWJlMzhhYjhlMTg2NDgzID0gTC5tYXAoCiAgICAgICAgICAgICAgICAibWFwXzAyOGMxNDYxMjlkNjRiMWNiZWJlMzhhYjhlMTg2NDgzIiwKICAgICAgICAgICAgICAgIHsKICAgICAgICAgICAgICAgICAgICBjZW50ZXI6IFs1NS42MTQ3MDksIDEzLjAwNDI5M10sCiAgICAgICAgICAgICAgICAgICAgY3JzOiBMLkNSUy5FUFNHMzg1NywKICAgICAgICAgICAgICAgICAgICB6b29tOiAxMS4zLAogICAgICAgICAgICAgICAgICAgIHpvb21Db250cm9sOiB0cnVlLAogICAgICAgICAgICAgICAgICAgIHByZWZlckNhbnZhczogZmFsc2UsCiAgICAgICAgICAgICAgICB9CiAgICAgICAgICAgICk7CgogICAgICAgICAgICAKCiAgICAgICAgCiAgICAKICAgICAgICAgICAgdmFyIHRpbGVfbGF5ZXJfYTYxNDRkZjc1ZjRiNDE4MWE2ZDk2MDEzNGQ4M2RhNzcgPSBMLnRpbGVMYXllcigKICAgICAgICAgICAgICAgICJodHRwczovL3tzfS50aWxlLm9wZW5zdHJlZXRtYXAub3JnL3t6fS97eH0ve3l9LnBuZyIsCiAgICAgICAgICAgICAgICB7ImF0dHJpYnV0aW9uIjogIkRhdGEgYnkgXHUwMDI2Y29weTsgXHUwMDNjYSBocmVmPVwiaHR0cDovL29wZW5zdHJlZXRtYXAub3JnXCJcdTAwM2VPcGVuU3RyZWV0TWFwXHUwMDNjL2FcdTAwM2UsIHVuZGVyIFx1MDAzY2EgaHJlZj1cImh0dHA6Ly93d3cub3BlbnN0cmVldG1hcC5vcmcvY29weXJpZ2h0XCJcdTAwM2VPRGJMXHUwMDNjL2FcdTAwM2UuIiwgImRldGVjdFJldGluYSI6IGZhbHNlLCAibWF4TmF0aXZlWm9vbSI6IDE4LCAibWF4Wm9vbSI6IDE4LCAibWluWm9vbSI6IDAsICJub1dyYXAiOiBmYWxzZSwgIm9wYWNpdHkiOiAxLCAic3ViZG9tYWlucyI6ICJhYmMiLCAidG1zIjogZmFsc2V9CiAgICAgICAgICAgICkuYWRkVG8obWFwXzAyOGMxNDYxMjlkNjRiMWNiZWJlMzhhYjhlMTg2NDgzKTsKICAgICAgICAKICAgIAogICAgICAgICAgICB2YXIgbWFya2VyX2UyYmYzMGJlODdiMzRhN2ZhN2I3OWUwM2Q0NGYwM2QyID0gTC5tYXJrZXIoCiAgICAgICAgICAgICAgICBbNTUuNjEzNzgxLCAxMi45ODM5MTNdLAogICAgICAgICAgICAgICAge30KICAgICAgICAgICAgKS5hZGRUbyhtYXBfMDI4YzE0NjEyOWQ2NGIxY2JlYmUzOGFiOGUxODY0ODMpOwogICAgICAgIAogICAgCiAgICAgICAgICAgIHZhciBpY29uXzJlNzMwZGJkNmYxZjQxODU4MGFlODYzYWZiNjA4MGEzID0gTC5Bd2Vzb21lTWFya2Vycy5pY29uKAogICAgICAgICAgICAgICAgeyJleHRyYUNsYXNzZXMiOiAiZmEtcm90YXRlLTAiLCAiaWNvbiI6ICJhbmdlbGxpc3QiLCAiaWNvbkNvbG9yIjogIndoaXRlIiwgIm1hcmtlckNvbG9yIjogImJsYWNrIiwgInByZWZpeCI6ICJmYSJ9CiAgICAgICAgICAgICk7CiAgICAgICAgICAgIG1hcmtlcl9lMmJmMzBiZTg3YjM0YTdmYTdiNzllMDNkNDRmMDNkMi5zZXRJY29uKGljb25fMmU3MzBkYmQ2ZjFmNDE4NTgwYWU4NjNhZmI2MDgwYTMpOwogICAgICAgIAogICAgCiAgICAgICAgdmFyIHBvcHVwXzBhZDdhMGRjMmZiMzRiNThiZGFiYTM2NDE5ZWYxMGI5ID0gTC5wb3B1cCh7Im1heFdpZHRoIjogIjEwMCUifSk7CgogICAgICAgIAogICAgICAgICAgICB2YXIgaHRtbF9kNWFhNDZjMTQzYjc0ZWVkOTYzNTdmNGRlNGZjODM4YSA9ICQoYDxkaXYgaWQ9Imh0bWxfZDVhYTQ2YzE0M2I3NGVlZDk2MzU3ZjRkZTRmYzgzOGEiIHN0eWxlPSJ3aWR0aDogMTAwLjAlOyBoZWlnaHQ6IDEwMC4wJTsiPlNrYXRlcGFyazogU3RhcGVsYmFkZHNwYXJrZW48L2Rpdj5gKVswXTsKICAgICAgICAgICAgcG9wdXBfMGFkN2EwZGMyZmIzNGI1OGJkYWJhMzY0MTllZjEwYjkuc2V0Q29udGVudChodG1sX2Q1YWE0NmMxNDNiNzRlZWQ5NjM1N2Y0ZGU0ZmM4MzhhKTsKICAgICAgICAKCiAgICAgICAgbWFya2VyX2UyYmYzMGJlODdiMzRhN2ZhN2I3OWUwM2Q0NGYwM2QyLmJpbmRQb3B1cChwb3B1cF8wYWQ3YTBkYzJmYjM0YjU4YmRhYmEzNjQxOWVmMTBiOSkKICAgICAgICA7CgogICAgICAgIAogICAgCiAgICAKICAgICAgICAgICAgdmFyIG1hcmtlcl9kZGI4NTBhZjEyYWQ0NWQxYmE1OWMzODA3OTA4NmZhYyA9IEwubWFya2VyKAogICAgICAgICAgICAgICAgWzU1LjU3MTg2LCAxMi45NzYzMDldLAogICAgICAgICAgICAgICAge30KICAgICAgICAgICAgKS5hZGRUbyhtYXBfMDI4YzE0NjEyOWQ2NGIxY2JlYmUzOGFiOGUxODY0ODMpOwogICAgICAgIAogICAgCiAgICAgICAgICAgIHZhciBpY29uXzI2YmFiMzRhYzhjNTRlODA5YzQ5MGU1YTNkYmU2NzNjID0gTC5Bd2Vzb21lTWFya2Vycy5pY29uKAogICAgICAgICAgICAgICAgeyJleHRyYUNsYXNzZXMiOiAiZmEtcm90YXRlLTAiLCAiaWNvbiI6ICJhbmdlbGxpc3QiLCAiaWNvbkNvbG9yIjogIndoaXRlIiwgIm1hcmtlckNvbG9yIjogImJsYWNrIiwgInByZWZpeCI6ICJmYSJ9CiAgICAgICAgICAgICk7CiAgICAgICAgICAgIG1hcmtlcl9kZGI4NTBhZjEyYWQ0NWQxYmE1OWMzODA3OTA4NmZhYy5zZXRJY29uKGljb25fMjZiYWIzNGFjOGM1NGU4MDljNDkwZTVhM2RiZTY3M2MpOwogICAgICAgIAogICAgCiAgICAgICAgdmFyIHBvcHVwXzIzMGMwN2Q0MWViNjQ0ZjI5ZmNlNDYxNzc2NWZjZmZmID0gTC5wb3B1cCh7Im1heFdpZHRoIjogIjEwMCUifSk7CgogICAgICAgIAogICAgICAgICAgICB2YXIgaHRtbF8wYmE3MDE4YWZkOGM0YzBkOTkxZWU4ZmU4MzNiNGM0NyA9ICQoYDxkaXYgaWQ9Imh0bWxfMGJhNzAxOGFmZDhjNGMwZDk5MWVlOGZlODMzYjRjNDciIHN0eWxlPSJ3aWR0aDogMTAwLjAlOyBoZWlnaHQ6IDEwMC4wJTsiPlNrYXRlcGFyazogS3Jva3NiYWNrcyBTa2F0ZXBhcms8L2Rpdj5gKVswXTsKICAgICAgICAgICAgcG9wdXBfMjMwYzA3ZDQxZWI2NDRmMjlmY2U0NjE3NzY1ZmNmZmYuc2V0Q29udGVudChodG1sXzBiYTcwMThhZmQ4YzRjMGQ5OTFlZThmZTgzM2I0YzQ3KTsKICAgICAgICAKCiAgICAgICAgbWFya2VyX2RkYjg1MGFmMTJhZDQ1ZDFiYTU5YzM4MDc5MDg2ZmFjLmJpbmRQb3B1cChwb3B1cF8yMzBjMDdkNDFlYjY0NGYyOWZjZTQ2MTc3NjVmY2ZmZikKICAgICAgICA7CgogICAgICAgIAogICAgCiAgICAKICAgICAgICAgICAgdmFyIG1hcmtlcl8yNDViOGZjZWYzMjQ0ZWI5OTBhOGUwN2JhOTYyMzJmMSA9IEwubWFya2VyKAogICAgICAgICAgICAgICAgWzU1LjU5MjA5NDUsIDEzLjAxMjcwOTVdLAogICAgICAgICAgICAgICAge30KICAgICAgICAgICAgKS5hZGRUbyhtYXBfMDI4YzE0NjEyOWQ2NGIxY2JlYmUzOGFiOGUxODY0ODMpOwogICAgICAgIAogICAgCiAgICAgICAgICAgIHZhciBpY29uX2E5NTQ2ZTVhZTFjMTQ0NTFhNTAyMzk2ODZiMzMwYmM2ID0gTC5Bd2Vzb21lTWFya2Vycy5pY29uKAogICAgICAgICAgICAgICAgeyJleHRyYUNsYXNzZXMiOiAiZmEtcm90YXRlLTAiLCAiaWNvbiI6ICJhbmdlbGxpc3QiLCAiaWNvbkNvbG9yIjogIndoaXRlIiwgIm1hcmtlckNvbG9yIjogImJsYWNrIiwgInByZWZpeCI6ICJmYSJ9CiAgICAgICAgICAgICk7CiAgICAgICAgICAgIG1hcmtlcl8yNDViOGZjZWYzMjQ0ZWI5OTBhOGUwN2JhOTYyMzJmMS5zZXRJY29uKGljb25fYTk1NDZlNWFlMWMxNDQ1MWE1MDIzOTY4NmIzMzBiYzYpOwogICAgICAgIAogICAgCiAgICAgICAgdmFyIHBvcHVwXzRlMGExN2VlZjQxYjQ4Nzk5YTBjODYyZmQ5ZDVhZWQ2ID0gTC5wb3B1cCh7Im1heFdpZHRoIjogIjEwMCUifSk7CgogICAgICAgIAogICAgICAgICAgICB2YXIgaHRtbF9iZTg2MDE1N2RhYTU0ODViODQwOGRjYjYxM2FlYmMxMCA9ICQoYDxkaXYgaWQ9Imh0bWxfYmU4NjAxNTdkYWE1NDg1Yjg0MDhkY2I2MTNhZWJjMTAiIHN0eWxlPSJ3aWR0aDogMTAwLjAlOyBoZWlnaHQ6IDEwMC4wJTsiPlNrYXRlcGFyazogRm9sa2V0cyBQYXJrPC9kaXY+YClbMF07CiAgICAgICAgICAgIHBvcHVwXzRlMGExN2VlZjQxYjQ4Nzk5YTBjODYyZmQ5ZDVhZWQ2LnNldENvbnRlbnQoaHRtbF9iZTg2MDE1N2RhYTU0ODViODQwOGRjYjYxM2FlYmMxMCk7CiAgICAgICAgCgogICAgICAgIG1hcmtlcl8yNDViOGZjZWYzMjQ0ZWI5OTBhOGUwN2JhOTYyMzJmMS5iaW5kUG9wdXAocG9wdXBfNGUwYTE3ZWVmNDFiNDg3OTlhMGM4NjJmZDlkNWFlZDYpCiAgICAgICAgOwoKICAgICAgICAKICAgIAogICAgCiAgICAgICAgICAgIHZhciBtYXJrZXJfZmNmY2I1NGRmNjc0NDU3NTk3OWJmMGExMTg2NTQ0OTQgPSBMLm1hcmtlcigKICAgICAgICAgICAgICAgIFs1NS41NzQ4MjYsIDEyLjkwODc1N10sCiAgICAgICAgICAgICAgICB7fQogICAgICAgICAgICApLmFkZFRvKG1hcF8wMjhjMTQ2MTI5ZDY0YjFjYmViZTM4YWI4ZTE4NjQ4Myk7CiAgICAgICAgCiAgICAKICAgICAgICAgICAgdmFyIGljb25fMmU5NTBkMDRlNjRmNGY3Nzk4YTE2ZDQ5MmVkZjIzYjMgPSBMLkF3ZXNvbWVNYXJrZXJzLmljb24oCiAgICAgICAgICAgICAgICB7ImV4dHJhQ2xhc3NlcyI6ICJmYS1yb3RhdGUtMCIsICJpY29uIjogImFuZ2VsbGlzdCIsICJpY29uQ29sb3IiOiAid2hpdGUiLCAibWFya2VyQ29sb3IiOiAiYmxhY2siLCAicHJlZml4IjogImZhIn0KICAgICAgICAgICAgKTsKICAgICAgICAgICAgbWFya2VyX2ZjZmNiNTRkZjY3NDQ1NzU5NzliZjBhMTE4NjU0NDk0LnNldEljb24oaWNvbl8yZTk1MGQwNGU2NGY0Zjc3OThhMTZkNDkyZWRmMjNiMyk7CiAgICAgICAgCiAgICAKICAgICAgICB2YXIgcG9wdXBfOGVlZDc3NmRmNzk0NGQzZmE1MjkxNGU5MzQ2YjMxMjcgPSBMLnBvcHVwKHsibWF4V2lkdGgiOiAiMTAwJSJ9KTsKCiAgICAgICAgCiAgICAgICAgICAgIHZhciBodG1sX2NjNWQzYjY5NDNkNTQ2ZTE5ZjAzZTk1MTNiMmZjMmJkID0gJChgPGRpdiBpZD0iaHRtbF9jYzVkM2I2OTQzZDU0NmUxOWYwM2U5NTEzYjJmYzJiZCIgc3R5bGU9IndpZHRoOiAxMDAuMCU7IGhlaWdodDogMTAwLjAlOyI+U2thdGVwYXJrOiBTaWJiYXJwIFNrYXRlcGFyazwvZGl2PmApWzBdOwogICAgICAgICAgICBwb3B1cF84ZWVkNzc2ZGY3OTQ0ZDNmYTUyOTE0ZTkzNDZiMzEyNy5zZXRDb250ZW50KGh0bWxfY2M1ZDNiNjk0M2Q1NDZlMTlmMDNlOTUxM2IyZmMyYmQpOwogICAgICAgIAoKICAgICAgICBtYXJrZXJfZmNmY2I1NGRmNjc0NDU3NTk3OWJmMGExMTg2NTQ0OTQuYmluZFBvcHVwKHBvcHVwXzhlZWQ3NzZkZjc5NDRkM2ZhNTI5MTRlOTM0NmIzMTI3KQogICAgICAgIDsKCiAgICAgICAgCiAgICAKICAgIAogICAgICAgICAgICB2YXIgbWFya2VyX2RkNzE5ZTQ1OGMzNzRlZGNhODVjYmMyODIyNmIxNjYzID0gTC5tYXJrZXIoCiAgICAgICAgICAgICAgICBbNTUuNTQxMDg4LCAxMy4xMDMyMzFdLAogICAgICAgICAgICAgICAge30KICAgICAgICAgICAgKS5hZGRUbyhtYXBfMDI4YzE0NjEyOWQ2NGIxY2JlYmUzOGFiOGUxODY0ODMpOwogICAgICAgIAogICAgCiAgICAgICAgICAgIHZhciBpY29uXzkxZWFjZTliZWNmNjQ1MWZhZGZkZDZkOTBkYmQ4ZDhlID0gTC5Bd2Vzb21lTWFya2Vycy5pY29uKAogICAgICAgICAgICAgICAgeyJleHRyYUNsYXNzZXMiOiAiZmEtcm90YXRlLTAiLCAiaWNvbiI6ICJhbmdlbGxpc3QiLCAiaWNvbkNvbG9yIjogIndoaXRlIiwgIm1hcmtlckNvbG9yIjogImJsYWNrIiwgInByZWZpeCI6ICJmYSJ9CiAgICAgICAgICAgICk7CiAgICAgICAgICAgIG1hcmtlcl9kZDcxOWU0NThjMzc0ZWRjYTg1Y2JjMjgyMjZiMTY2My5zZXRJY29uKGljb25fOTFlYWNlOWJlY2Y2NDUxZmFkZmRkNmQ5MGRiZDhkOGUpOwogICAgICAgIAogICAgCiAgICAgICAgdmFyIHBvcHVwXzg0N2RhOTliYmQ5YTRhNGViMWQ3OTFiYWM3NTZlZWIwID0gTC5wb3B1cCh7Im1heFdpZHRoIjogIjEwMCUifSk7CgogICAgICAgIAogICAgICAgICAgICB2YXIgaHRtbF9kMzlhOTU2NTFjZmQ0ZGQ5YTZkNDRlMTgwMmUzMGQ3YyA9ICQoYDxkaXYgaWQ9Imh0bWxfZDM5YTk1NjUxY2ZkNGRkOWE2ZDQ0ZTE4MDJlMzBkN2MiIHN0eWxlPSJ3aWR0aDogMTAwLjAlOyBoZWlnaHQ6IDEwMC4wJTsiPlNrYXRlcGFyazogT3hpZSBTa2F0ZXBhcms8L2Rpdj5gKVswXTsKICAgICAgICAgICAgcG9wdXBfODQ3ZGE5OWJiZDlhNGE0ZWIxZDc5MWJhYzc1NmVlYjAuc2V0Q29udGVudChodG1sX2QzOWE5NTY1MWNmZDRkZDlhNmQ0NGUxODAyZTMwZDdjKTsKICAgICAgICAKCiAgICAgICAgbWFya2VyX2RkNzE5ZTQ1OGMzNzRlZGNhODVjYmMyODIyNmIxNjYzLmJpbmRQb3B1cChwb3B1cF84NDdkYTk5YmJkOWE0YTRlYjFkNzkxYmFjNzU2ZWViMCkKICAgICAgICA7CgogICAgICAgIAogICAgCjwvc2NyaXB0Pg== onload=\"this.contentDocument.open();this.contentDocument.write(atob(this.getAttribute('data-html')));this.contentDocument.close();\" allowfullscreen webkitallowfullscreen mozallowfullscreen></iframe></div></div>"
      ],
      "text/plain": [
       "<folium.folium.Map at 0x24db8ea4a20>"
      ]
     },
     "execution_count": 205,
     "metadata": {},
     "output_type": "execute_result"
    }
   ],
   "source": [
    "map = folium.Map(width=1000, height=400, location = [55.614709,13.004293], tiles = \"OpenStreetMap\", zoom_start = 11.3)\n",
    "\n",
    "# Looping values with keys with items() method and adding to map\n",
    "for key, value in coordinates_dictionary.items():\n",
    "    #print(key, value)\n",
    "    folium.Marker( key, popup=\"Skatepark: \" + str(value), icon=folium.Icon(color='black', \n",
    "                                                                           icon_color='white', \n",
    "                                                                           icon='angellist', angle=0, \n",
    "                                                                           prefix='fa') ).add_to(map) \n",
    "    \n",
    "# Display map\n",
    "map"
   ]
  },
  {
   "cell_type": "code",
   "execution_count": null,
   "metadata": {},
   "outputs": [],
   "source": []
  },
  {
   "cell_type": "code",
   "execution_count": null,
   "metadata": {},
   "outputs": [],
   "source": []
  }
 ],
 "metadata": {
  "colab": {
   "authorship_tag": "ABX9TyOjIvh08AF4WrpvNwy1LnwP",
   "include_colab_link": true,
   "name": "map.ipynb",
   "provenance": []
  },
  "kernelspec": {
   "display_name": "Python 3",
   "language": "python",
   "name": "python3"
  },
  "language_info": {
   "codemirror_mode": {
    "name": "ipython",
    "version": 3
   },
   "file_extension": ".py",
   "mimetype": "text/x-python",
   "name": "python",
   "nbconvert_exporter": "python",
   "pygments_lexer": "ipython3",
   "version": "3.7.3"
  }
 },
 "nbformat": 4,
 "nbformat_minor": 1
}
