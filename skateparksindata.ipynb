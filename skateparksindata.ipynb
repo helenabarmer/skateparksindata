{
 "cells": [
  {
   "cell_type": "code",
   "execution_count": 192,
   "metadata": {},
   "outputs": [],
   "source": [
    "#import pandas as pd\n",
    "#import seaborn as sns\n",
    "import geopandas\n",
    "import folium\n",
    "#import matplotlib.pyplot as plt\n",
    "from shapely.geometry import Point\n",
    "\n",
    "\n",
    "#print(\"All libraries imported. \")"
   ]
  },
  {
   "cell_type": "markdown",
   "metadata": {
    "colab_type": "text",
    "id": "JoqpJ3ffzao0"
   },
   "source": [
    "# **Skateparks in Malmö**\n",
    "*5 skateparks in Malmö.*"
   ]
  },
  {
   "cell_type": "code",
   "execution_count": 193,
   "metadata": {},
   "outputs": [],
   "source": [
    "stapelbäddsparken_coordinates = [55.613781,12.983913]\n",
    "#stapelbäddsparken_coordinates[1]"
   ]
  },
  {
   "cell_type": "code",
   "execution_count": 188,
   "metadata": {},
   "outputs": [],
   "source": [
    "# Skatepark coordinates, stored as dictionary\n",
    "\n",
    "coordinates_dictionary = {\n",
    "    (55.613781,12.983913): 'Stapelbaddsparken',\n",
    "    (55.571860, 12.976309): 'Kroksbacks Skatepark',\n",
    "    (55.5920945, 13.0127095): 'Folkets Park',\n",
    "    (55.574826, 12.908757): 'Sibbarp Skatepark',\n",
    "    (55.541088, 13.103231): 'Oxie Skatepark'\n",
    "}"
   ]
  },
  {
   "cell_type": "code",
   "execution_count": 189,
   "metadata": {},
   "outputs": [
    {
     "data": {
      "text/html": [
       "<div style=\"width:100%;\"><div style=\"position:relative;width:100%;height:0;padding-bottom:60%;\"><span style=\"color:#565656\">Make this Notebook Trusted to load map: File -> Trust Notebook</span><iframe src=\"about:blank\" style=\"position:absolute;width:100%;height:100%;left:0;top:0;border:none !important;\" data-html=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 onload=\"this.contentDocument.open();this.contentDocument.write(atob(this.getAttribute('data-html')));this.contentDocument.close();\" allowfullscreen webkitallowfullscreen mozallowfullscreen></iframe></div></div>"
      ],
      "text/plain": [
       "<folium.folium.Map at 0x24db8e445f8>"
      ]
     },
     "execution_count": 189,
     "metadata": {},
     "output_type": "execute_result"
    }
   ],
   "source": [
    "map = folium.Map(width=1000, height=400, location = [55.614709,13.004293], tiles = \"OpenStreetMap\", zoom_start = 11.3)\n",
    "\n",
    "# Looping values with keys with items() method and adding to map\n",
    "for key, value in coordinates_dictionary.items():\n",
    "    #print(key, value)\n",
    "    folium.Marker( key, popup=\"Skatepark: \" + str(value), icon=folium.Icon(color='black', \n",
    "                                                                           icon_color='white', \n",
    "                                                                           icon='angellist', angle=0, \n",
    "                                                                           prefix='fa') ).add_to(map) \n",
    "    \n",
    "# Display map\n",
    "map"
   ]
  }
 ],
 "metadata": {
  "colab": {
   "authorship_tag": "ABX9TyOjIvh08AF4WrpvNwy1LnwP",
   "include_colab_link": true,
   "name": "map.ipynb",
   "provenance": []
  },
  "kernelspec": {
   "display_name": "Python 3",
   "language": "python",
   "name": "python3"
  },
  "language_info": {
   "codemirror_mode": {
    "name": "ipython",
    "version": 3
   },
   "file_extension": ".py",
   "mimetype": "text/x-python",
   "name": "python",
   "nbconvert_exporter": "python",
   "pygments_lexer": "ipython3",
   "version": "3.7.3"
  }
 },
 "nbformat": 4,
 "nbformat_minor": 1
}
