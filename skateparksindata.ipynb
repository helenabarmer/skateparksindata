{
 "cells": [
  {
   "cell_type": "code",
<<<<<<< HEAD
   "execution_count": 191,
   "metadata": {},
   "outputs": [],
   "source": [
    "import pandas as pd\n",
    "import seaborn as sns\n",
    "import geopandas\n",
    "import folium\n",
    "import matplotlib.pyplot as plt\n",
=======
   "execution_count": 192,
   "metadata": {},
   "outputs": [],
   "source": [
    "#import pandas as pd\n",
    "#import seaborn as sns\n",
    "import geopandas\n",
    "import folium\n",
    "#import matplotlib.pyplot as plt\n",
>>>>>>> files
    "from shapely.geometry import Point\n",
    "\n",
    "\n",
    "#print(\"All libraries imported. \")"
   ]
  },
  {
<<<<<<< HEAD
   "cell_type": "code",
   "execution_count": 184,
   "metadata": {},
   "outputs": [
    {
     "data": {
      "text/html": [
       "\n",
       "<style>\n",
       ".output_png {\n",
       "    display: table-cell;\n",
       "    text-align: center;\n",
       "    vertical-align: middle;\n",
       "}\n",
       "</style>\n"
      ],
      "text/plain": [
       "<IPython.core.display.HTML object>"
      ]
     },
     "execution_count": 184,
     "metadata": {},
     "output_type": "execute_result"
    }
   ],
   "source": [
    "from IPython.core.display import HTML\n",
    "HTML(\"\"\"\n",
    "<style>\n",
    ".output_png {\n",
    "    display: table-cell;\n",
    "    text-align: center;\n",
    "    vertical-align: middle;\n",
    "}\n",
    "</style>\n",
    "\"\"\")\n",
    "\n",
    "#print(\"Style imported. \")"
   ]
  },
  {
=======
>>>>>>> files
   "cell_type": "markdown",
   "metadata": {
    "colab_type": "text",
    "id": "JoqpJ3ffzao0"
   },
   "source": [
    "# **Skateparks in Malmö**\n",
    "*5 skateparks in Malmö.*"
   ]
  },
  {
   "cell_type": "code",
<<<<<<< HEAD
   "execution_count": 187,
=======
   "execution_count": 193,
>>>>>>> files
   "metadata": {},
   "outputs": [],
   "source": [
    "stapelbäddsparken_coordinates = [55.613781,12.983913]\n",
    "#stapelbäddsparken_coordinates[1]"
   ]
  },
  {
   "cell_type": "code",
   "execution_count": 188,
   "metadata": {},
   "outputs": [],
   "source": [
    "# Skatepark coordinates, stored as dictionary\n",
    "\n",
    "coordinates_dictionary = {\n",
    "    (55.613781,12.983913): 'Stapelbaddsparken',\n",
    "    (55.571860, 12.976309): 'Kroksbacks Skatepark',\n",
    "    (55.5920945, 13.0127095): 'Folkets Park',\n",
    "    (55.574826, 12.908757): 'Sibbarp Skatepark',\n",
    "    (55.541088, 13.103231): 'Oxie Skatepark'\n",
    "}"
   ]
  },
  {
   "cell_type": "code",
   "execution_count": 189,
   "metadata": {},
   "outputs": [
    {
     "data": {
      "text/html": [
       "<div style=\"width:100%;\"><div style=\"position:relative;width:100%;height:0;padding-bottom:60%;\"><span style=\"color:#565656\">Make this Notebook Trusted to load map: File -> Trust Notebook</span><iframe src=\"about:blank\" style=\"position:absolute;width:100%;height:100%;left:0;top:0;border:none !important;\" data-html=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 onload=\"this.contentDocument.open();this.contentDocument.write(atob(this.getAttribute('data-html')));this.contentDocument.close();\" allowfullscreen webkitallowfullscreen mozallowfullscreen></iframe></div></div>"
      ],
      "text/plain": [
       "<folium.folium.Map at 0x24db8e445f8>"
      ]
     },
     "execution_count": 189,
     "metadata": {},
     "output_type": "execute_result"
    }
   ],
   "source": [
    "map = folium.Map(width=1000, height=400, location = [55.614709,13.004293], tiles = \"OpenStreetMap\", zoom_start = 11.3)\n",
    "\n",
    "# Looping values with keys with items() method and adding to map\n",
    "for key, value in coordinates_dictionary.items():\n",
    "    #print(key, value)\n",
    "    folium.Marker( key, popup=\"Skatepark: \" + str(value), icon=folium.Icon(color='black', \n",
    "                                                                           icon_color='white', \n",
    "                                                                           icon='angellist', angle=0, \n",
    "                                                                           prefix='fa') ).add_to(map) \n",
    "    \n",
    "# Display map\n",
    "map"
   ]
<<<<<<< HEAD
  },
  {
   "cell_type": "code",
   "execution_count": 35,
   "metadata": {},
   "outputs": [],
   "source": [
    "from folium import plugins\n",
    "from folium.plugins import HeatMap"
   ]
  },
  {
   "cell_type": "markdown",
   "metadata": {},
   "source": [
    "# Heatmap"
   ]
  },
  {
   "cell_type": "code",
   "execution_count": 264,
   "metadata": {
    "colab": {},
    "colab_type": "code",
    "id": "NNXazz3XyQWR"
   },
   "outputs": [
    {
     "data": {
      "text/html": [
       "<div style=\"width:100%;\"><div style=\"position:relative;width:100%;height:0;padding-bottom:60%;\"><span style=\"color:#565656\">Make this Notebook Trusted to load map: File -> Trust Notebook</span><iframe src=\"about:blank\" style=\"position:absolute;width:100%;height:100%;left:0;top:0;border:none !important;\" data-html=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 onload=\"this.contentDocument.open();this.contentDocument.write(atob(this.getAttribute('data-html')));this.contentDocument.close();\" allowfullscreen webkitallowfullscreen mozallowfullscreen></iframe></div></div>"
      ],
      "text/plain": [
       "<folium.folium.Map at 0x2252daf2b00>"
      ]
     },
     "execution_count": 264,
     "metadata": {},
     "output_type": "execute_result"
    }
   ],
   "source": [
    "map = folium.Map(width=500, height=500, location = [55.613781,12.983913], tiles = \"OpenStreetMap\", zoom_start = 11.5)\n",
    "type_color = \"blue\"\n",
    "\n",
    "coordinates = []\n",
    "\n",
    "#Stapelbäddsparken\n",
    "lat_stapeln = '55.613781'\n",
    "long_stapeln = '12.983913'\n",
    "\n",
    "lat_stapeln = '55.613781'\n",
    "long_stapeln = '12.983913'\n",
    "\n",
    "lat_stapeln = '55.613781'\n",
    "long_stapeln = '12.983913'\n",
    "\n",
    "# Sibbarps skatepark\n",
    "lat_sib = '55.574842'\n",
    "long_sib = '12.908765'\n",
    "\n",
    "test_add = [['55.613781', '12.983913'], ['55.613781', '12.983913'],\n",
    "            ['55.613781', '12.983913'], ['55.574842', '12.908765'], ['55.613781', '12.983913'],\n",
    "           ['55.613781', '12.983913'], ['55.613781', '12.983913'], ['55.613781', '12.983913'],\n",
    "           ['55.613781', '12.983913'], ['55.613781', '12.983913'], ['55.613781', '12.983913']]\n",
    "\n",
    "#add_coordinates_list = [[lat_stapeln, long_stapeln], [lat_sib, long_sib]]\n",
    "#print(add_coordinates_list)\n",
    "\n",
    "for i in test_add:\n",
    "    coordinates.append(i)\n",
    "\n",
    "HeatMap(coordinates).add_to(map)\n",
    "map"
   ]
  },
  {
   "cell_type": "markdown",
   "metadata": {},
   "source": [
    "## Our skateparks"
   ]
  },
  {
   "cell_type": "code",
   "execution_count": 265,
   "metadata": {},
   "outputs": [
    {
     "data": {
      "text/plain": [
       "0                Stapel\n",
       "1          Folkets Park\n",
       "2     Stapelbäddsparken\n",
       "3     Stapelbäddsparken\n",
       "4     Stapelbäddsparken\n",
       "5          Folkets Park\n",
       "6          Folkets Park\n",
       "7     Stapelbäddsparken\n",
       "8          Folkets Park\n",
       "9     Stapelbäddsparken\n",
       "10         Folkets Park\n",
       "11         Folkets Park\n",
       "Name: Which skatepark, dtype: object"
      ]
     },
     "execution_count": 265,
     "metadata": {},
     "output_type": "execute_result"
    }
   ],
   "source": [
    "skatepark = df['Which skatepark']\n",
    "skatepark"
   ]
  },
  {
   "cell_type": "code",
   "execution_count": 268,
   "metadata": {},
   "outputs": [
    {
     "data": {
      "text/plain": [
       "[0,\n",
       " '55.574842',\n",
       " '55.613781',\n",
       " '55.613781',\n",
       " '55.613781',\n",
       " '55.574842',\n",
       " '55.574842',\n",
       " '55.613781',\n",
       " '55.574842',\n",
       " '55.613781',\n",
       " '55.574842',\n",
       " '55.574842']"
      ]
     },
     "execution_count": 268,
     "metadata": {},
     "output_type": "execute_result"
    }
   ],
   "source": [
    "latitude  = []\n",
    "longitude  = []\n",
    "for i in skatepark:\n",
    "    if(i == 'Stapelbäddsparken'):\n",
    "        latitude.append('55.613781')\n",
    "        longitude.append('12.983913')\n",
    "        \n",
    "    elif(i == 'Folkets Park'):\n",
    "            latitude.append('55.574842')\n",
    "            longitude.append('12.908765')\n",
    "    else:\n",
    "        latitude.append(0)\n",
    "        longitude.append(0)\n",
    "latitude"
   ]
  },
  {
   "cell_type": "code",
   "execution_count": 270,
   "metadata": {},
   "outputs": [
    {
     "data": {
      "text/html": [
       "<div>\n",
       "<style scoped>\n",
       "    .dataframe tbody tr th:only-of-type {\n",
       "        vertical-align: middle;\n",
       "    }\n",
       "\n",
       "    .dataframe tbody tr th {\n",
       "        vertical-align: top;\n",
       "    }\n",
       "\n",
       "    .dataframe thead th {\n",
       "        text-align: right;\n",
       "    }\n",
       "</style>\n",
       "<table border=\"1\" class=\"dataframe\">\n",
       "  <thead>\n",
       "    <tr style=\"text-align: right;\">\n",
       "      <th></th>\n",
       "      <th>Timestamp</th>\n",
       "      <th>Which skatepark</th>\n",
       "      <th>Latitude</th>\n",
       "      <th>Longitude</th>\n",
       "      <th>Weather</th>\n",
       "      <th>Gender</th>\n",
       "      <th>Age</th>\n",
       "    </tr>\n",
       "  </thead>\n",
       "  <tbody>\n",
       "    <tr>\n",
       "      <th>0</th>\n",
       "      <td>18/05/2020 12:45:32</td>\n",
       "      <td>Stapel</td>\n",
       "      <td>0</td>\n",
       "      <td>0</td>\n",
       "      <td>Rain</td>\n",
       "      <td>Female</td>\n",
       "      <td>NaN</td>\n",
       "    </tr>\n",
       "    <tr>\n",
       "      <th>1</th>\n",
       "      <td>24/05/2020 12:04:22</td>\n",
       "      <td>Folkets Park</td>\n",
       "      <td>55.574842</td>\n",
       "      <td>12.908765</td>\n",
       "      <td>Cloudy</td>\n",
       "      <td>Female</td>\n",
       "      <td>11-25</td>\n",
       "    </tr>\n",
       "    <tr>\n",
       "      <th>2</th>\n",
       "      <td>25/05/2020 16:24:02</td>\n",
       "      <td>Stapelbäddsparken</td>\n",
       "      <td>55.613781</td>\n",
       "      <td>12.983913</td>\n",
       "      <td>Cloudy</td>\n",
       "      <td>Female</td>\n",
       "      <td>11-25</td>\n",
       "    </tr>\n",
       "    <tr>\n",
       "      <th>3</th>\n",
       "      <td>25/05/2020 16:24:53</td>\n",
       "      <td>Stapelbäddsparken</td>\n",
       "      <td>55.613781</td>\n",
       "      <td>12.983913</td>\n",
       "      <td>Rain</td>\n",
       "      <td>Male, Female</td>\n",
       "      <td>0-10, 11-25</td>\n",
       "    </tr>\n",
       "    <tr>\n",
       "      <th>4</th>\n",
       "      <td>28/05/2020 11:09:25</td>\n",
       "      <td>Stapelbäddsparken</td>\n",
       "      <td>55.613781</td>\n",
       "      <td>12.983913</td>\n",
       "      <td>Rain</td>\n",
       "      <td>Male</td>\n",
       "      <td>0-10</td>\n",
       "    </tr>\n",
       "    <tr>\n",
       "      <th>5</th>\n",
       "      <td>28/05/2020 11:09:35</td>\n",
       "      <td>Folkets Park</td>\n",
       "      <td>55.574842</td>\n",
       "      <td>12.908765</td>\n",
       "      <td>Sunny</td>\n",
       "      <td>Male</td>\n",
       "      <td>11-25</td>\n",
       "    </tr>\n",
       "    <tr>\n",
       "      <th>6</th>\n",
       "      <td>28/05/2020 11:10:46</td>\n",
       "      <td>Folkets Park</td>\n",
       "      <td>55.574842</td>\n",
       "      <td>12.908765</td>\n",
       "      <td>Sunny</td>\n",
       "      <td>Female</td>\n",
       "      <td>11-25</td>\n",
       "    </tr>\n",
       "    <tr>\n",
       "      <th>7</th>\n",
       "      <td>28/05/2020 11:11:54</td>\n",
       "      <td>Stapelbäddsparken</td>\n",
       "      <td>55.613781</td>\n",
       "      <td>12.983913</td>\n",
       "      <td>Cloudy</td>\n",
       "      <td>Male</td>\n",
       "      <td>11-25</td>\n",
       "    </tr>\n",
       "    <tr>\n",
       "      <th>8</th>\n",
       "      <td>28/05/2020 11:11:55</td>\n",
       "      <td>Folkets Park</td>\n",
       "      <td>55.574842</td>\n",
       "      <td>12.908765</td>\n",
       "      <td>Sunny</td>\n",
       "      <td>Female</td>\n",
       "      <td>0-10</td>\n",
       "    </tr>\n",
       "    <tr>\n",
       "      <th>9</th>\n",
       "      <td>28/05/2020 11:12:25</td>\n",
       "      <td>Stapelbäddsparken</td>\n",
       "      <td>55.613781</td>\n",
       "      <td>12.983913</td>\n",
       "      <td>Cloudy</td>\n",
       "      <td>Male</td>\n",
       "      <td>0-10</td>\n",
       "    </tr>\n",
       "    <tr>\n",
       "      <th>10</th>\n",
       "      <td>28/05/2020 11:18:55</td>\n",
       "      <td>Folkets Park</td>\n",
       "      <td>55.574842</td>\n",
       "      <td>12.908765</td>\n",
       "      <td>Cloudy</td>\n",
       "      <td>Male</td>\n",
       "      <td>0-10</td>\n",
       "    </tr>\n",
       "    <tr>\n",
       "      <th>11</th>\n",
       "      <td>28/05/2020 15:48:11</td>\n",
       "      <td>Folkets Park</td>\n",
       "      <td>55.574842</td>\n",
       "      <td>12.908765</td>\n",
       "      <td>Sunny</td>\n",
       "      <td>Male</td>\n",
       "      <td>0-10</td>\n",
       "    </tr>\n",
       "  </tbody>\n",
       "</table>\n",
       "</div>"
      ],
      "text/plain": [
       "              Timestamp    Which skatepark   Latitude  Longitude Weather  \\\n",
       "0   18/05/2020 12:45:32             Stapel          0          0    Rain   \n",
       "1   24/05/2020 12:04:22       Folkets Park  55.574842  12.908765  Cloudy   \n",
       "2   25/05/2020 16:24:02  Stapelbäddsparken  55.613781  12.983913  Cloudy   \n",
       "3   25/05/2020 16:24:53  Stapelbäddsparken  55.613781  12.983913    Rain   \n",
       "4   28/05/2020 11:09:25  Stapelbäddsparken  55.613781  12.983913    Rain   \n",
       "5   28/05/2020 11:09:35       Folkets Park  55.574842  12.908765   Sunny   \n",
       "6   28/05/2020 11:10:46       Folkets Park  55.574842  12.908765   Sunny   \n",
       "7   28/05/2020 11:11:54  Stapelbäddsparken  55.613781  12.983913  Cloudy   \n",
       "8   28/05/2020 11:11:55       Folkets Park  55.574842  12.908765   Sunny   \n",
       "9   28/05/2020 11:12:25  Stapelbäddsparken  55.613781  12.983913  Cloudy   \n",
       "10  28/05/2020 11:18:55       Folkets Park  55.574842  12.908765  Cloudy   \n",
       "11  28/05/2020 15:48:11       Folkets Park  55.574842  12.908765   Sunny   \n",
       "\n",
       "          Gender          Age  \n",
       "0         Female          NaN  \n",
       "1         Female        11-25  \n",
       "2         Female        11-25  \n",
       "3   Male, Female  0-10, 11-25  \n",
       "4           Male         0-10  \n",
       "5           Male        11-25  \n",
       "6         Female        11-25  \n",
       "7           Male        11-25  \n",
       "8         Female         0-10  \n",
       "9           Male         0-10  \n",
       "10          Male         0-10  \n",
       "11          Male         0-10  "
      ]
     },
     "execution_count": 270,
     "metadata": {},
     "output_type": "execute_result"
    }
   ],
   "source": [
    "#df.insert(2, \"Latitude\", latitude, True)\n",
    "#df.insert(3, \"Longitude\", longitude, True)\n",
    "#df.drop(df.columns[[2]], axis=1, inplace=True)\n",
    "df"
   ]
  },
  {
   "cell_type": "code",
   "execution_count": 271,
   "metadata": {},
   "outputs": [],
   "source": [
    "df['Latitude'] = df['Latitude'].astype(float)\n",
    "df['Longitude'] = df['Longitude'].astype(float)"
   ]
  },
  {
   "cell_type": "code",
   "execution_count": 278,
   "metadata": {},
   "outputs": [
    {
     "data": {
      "text/html": [
       "<div style=\"width:100%;\"><div style=\"position:relative;width:100%;height:0;padding-bottom:60%;\"><span style=\"color:#565656\">Make this Notebook Trusted to load map: File -> Trust Notebook</span><iframe src=\"about:blank\" style=\"position:absolute;width:100%;height:100%;left:0;top:0;border:none !important;\" data-html=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 onload=\"this.contentDocument.open();this.contentDocument.write(atob(this.getAttribute('data-html')));this.contentDocument.close();\" allowfullscreen webkitallowfullscreen mozallowfullscreen></iframe></div></div>"
      ],
      "text/plain": [
       "<folium.folium.Map at 0x2252db3b0f0>"
      ]
     },
     "execution_count": 278,
     "metadata": {},
     "output_type": "execute_result"
    }
   ],
   "source": [
    "map = folium.Map(width=500, height=500, location = [55.613781,12.983913], tiles = \"OpenStreetMap\", zoom_start = 11.5)\n",
    "type_color = \"blue\"\n",
    "\n",
    "\n",
    "heat_df = df[df['Gender'] == 'Female']\n",
    "#heat_df = df[df['Age'] == '11-25']\n",
    "heat_df = heat_df[['Latitude', 'Longitude']]\n",
    "heat_df = heat_df.dropna(axis=0, subset=['Latitude','Longitude'])\n",
    "\n",
    "heat_data = [[row['Latitude'],row['Longitude']] for index, row in heat_df.iterrows()]\n",
    "\n",
    "HeatMap(heat_data).add_to(map)\n",
    "map"
   ]
  },
  {
   "cell_type": "code",
   "execution_count": 274,
   "metadata": {},
   "outputs": [],
   "source": [
    "map = folium.Map(width=500, height=500, location = [55.613781,12.983913], tiles = \"OpenStreetMap\", zoom_start = 11.5)\n",
    "type_color = \"blue\"\n",
    "\n",
    "# mark each station as a point\n",
    "for index, row in df.iterrows():\n",
    "    folium.CircleMarker([row['Latitude'], row['Longitude']],\n",
    "                        radius=15,\n",
    "                        popup=row['Which skatepark'],\n",
    "                        fill_color=\"#3db7e4\", # divvy color\n",
    "                       ).add_to(map)"
   ]
  },
  {
   "cell_type": "code",
   "execution_count": 280,
   "metadata": {},
   "outputs": [
    {
     "data": {
      "text/plain": [
       "array([[ 0.      ,  0.      ],\n",
       "       [55.574842, 12.908765],\n",
       "       [55.613781, 12.983913],\n",
       "       [55.613781, 12.983913],\n",
       "       [55.613781, 12.983913],\n",
       "       [55.574842, 12.908765],\n",
       "       [55.574842, 12.908765],\n",
       "       [55.613781, 12.983913],\n",
       "       [55.574842, 12.908765],\n",
       "       [55.613781, 12.983913],\n",
       "       [55.574842, 12.908765],\n",
       "       [55.574842, 12.908765]])"
      ]
     },
     "execution_count": 280,
     "metadata": {},
     "output_type": "execute_result"
    }
   ],
   "source": [
    "# convert to (n, 2) nd-array format for heatmap\n",
    "arr = df[['Latitude', 'Longitude']].to_numpy()\n",
    "arr"
   ]
  },
  {
   "cell_type": "code",
   "execution_count": 276,
   "metadata": {},
   "outputs": [
    {
     "data": {
      "text/html": [
       "<div style=\"width:100%;\"><div style=\"position:relative;width:100%;height:0;padding-bottom:60%;\"><span style=\"color:#565656\">Make this Notebook Trusted to load map: File -> Trust Notebook</span><iframe src=\"about:blank\" style=\"position:absolute;width:100%;height:100%;left:0;top:0;border:none !important;\" data-html=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 onload=\"this.contentDocument.open();this.contentDocument.write(atob(this.getAttribute('data-html')));this.contentDocument.close();\" allowfullscreen webkitallowfullscreen mozallowfullscreen></iframe></div></div>"
      ],
      "text/plain": [
       "<folium.folium.Map at 0x2252dafc470>"
      ]
     },
     "execution_count": 276,
     "metadata": {},
     "output_type": "execute_result"
    }
   ],
   "source": [
    "# plot heatmap\n",
    "map.add_child(plugins.HeatMap(arr, radius=15))\n",
    "map"
   ]
  },
  {
   "cell_type": "code",
   "execution_count": null,
   "metadata": {},
   "outputs": [],
   "source": []
=======
>>>>>>> files
  }
 ],
 "metadata": {
  "colab": {
   "authorship_tag": "ABX9TyOjIvh08AF4WrpvNwy1LnwP",
   "include_colab_link": true,
   "name": "map.ipynb",
   "provenance": []
  },
  "kernelspec": {
   "display_name": "Python 3",
   "language": "python",
   "name": "python3"
  },
  "language_info": {
   "codemirror_mode": {
    "name": "ipython",
    "version": 3
   },
   "file_extension": ".py",
   "mimetype": "text/x-python",
   "name": "python",
   "nbconvert_exporter": "python",
   "pygments_lexer": "ipython3",
   "version": "3.7.3"
  }
 },
 "nbformat": 4,
 "nbformat_minor": 1
}
