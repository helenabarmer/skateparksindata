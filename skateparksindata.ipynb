{
 "cells": [
  {
   "cell_type": "code",
   "execution_count": 211,
   "metadata": {},
   "outputs": [],
   "source": [
    "import pandas as pd\n",
    "import seaborn as sns\n",
    "import geopandas\n",
    "import folium\n",
    "import matplotlib.pyplot as plt\n",
    "#from shapely.geometry import Point\n",
    "\n",
    "\n",
    "#print(\"All libraries imported. \")"
   ]
  },
  {
   "cell_type": "code",
   "execution_count": 212,
   "metadata": {},
   "outputs": [
    {
     "data": {
      "text/html": [
       "\n",
       "<style>\n",
       ".output_png {\n",
       "    display: table-cell;\n",
       "    text-align: center;\n",
       "    vertical-align: middle;\n",
       "}\n",
       "</style>\n"
      ],
      "text/plain": [
       "<IPython.core.display.HTML object>"
      ]
     },
     "execution_count": 212,
     "metadata": {},
     "output_type": "execute_result"
    }
   ],
   "source": [
    "from IPython.core.display import HTML\n",
    "HTML(\"\"\"\n",
    "<style>\n",
    ".output_png {\n",
    "    display: table-cell;\n",
    "    text-align: center;\n",
    "    vertical-align: middle;\n",
    "}\n",
    "</style>\n",
    "\"\"\")"
   ]
  },
  {
   "cell_type": "markdown",
   "metadata": {
    "colab_type": "text",
    "id": "JoqpJ3ffzao0"
   },
   "source": [
    "# **Skateparks in Malmö**\n",
    "*5 skateparks in Malmö.*"
   ]
  },
  {
   "cell_type": "code",
   "execution_count": 213,
   "metadata": {},
   "outputs": [],
   "source": [
    "stapelbäddsparken_coordinates = [55.613781,12.983913]\n",
    "#stapelbäddsparken_coordinates[1]"
   ]
  },
  {
   "cell_type": "code",
   "execution_count": 214,
   "metadata": {},
   "outputs": [],
   "source": [
    "# Skatepark coordinates, stored as dictionary\n",
    "\n",
    "coordinates_dictionary = {\n",
    "    (55.613781,12.983913): 'Stapelbaddsparken',\n",
    "    (55.571860, 12.976309): 'Kroksbacks Skatepark',\n",
    "    (55.5920945, 13.0127095): 'Folkets Park',\n",
    "    (55.574826, 12.908757): 'Sibbarp Skatepark',\n",
    "    (55.541088, 13.103231): 'Oxie Skatepark'\n",
    "}"
   ]
  },
  {
   "cell_type": "code",
   "execution_count": 215,
   "metadata": {},
   "outputs": [
    {
     "data": {
      "text/html": [
       "<div style=\"width:100%;\"><div style=\"position:relative;width:100%;height:0;padding-bottom:60%;\"><span style=\"color:#565656\">Make this Notebook Trusted to load map: File -> Trust Notebook</span><iframe src=\"about:blank\" style=\"position:absolute;width:100%;height:100%;left:0;top:0;border:none !important;\" data-html=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 onload=\"this.contentDocument.open();this.contentDocument.write(atob(this.getAttribute('data-html')));this.contentDocument.close();\" allowfullscreen webkitallowfullscreen mozallowfullscreen></iframe></div></div>"
      ],
      "text/plain": [
       "<folium.folium.Map at 0x24db8edf748>"
      ]
     },
     "execution_count": 215,
     "metadata": {},
     "output_type": "execute_result"
    }
   ],
   "source": [
    "map = folium.Map(width=1000, height=400, location = [55.614709,13.004293], tiles = \"OpenStreetMap\", zoom_start = 11.3)\n",
    "\n",
    "# Looping values with keys with items() method and adding to map\n",
    "for key, value in coordinates_dictionary.items():\n",
    "    #print(key, value)\n",
    "    folium.Marker( key, popup=\"Skatepark: \" + str(value), icon=folium.Icon(color='black', \n",
    "                                                                           icon_color='white', \n",
    "                                                                           icon='angellist', angle=0, \n",
    "                                                                           prefix='fa') ).add_to(map) \n",
    "    \n",
    "# Display map\n",
    "map"
   ]
  },
  {
   "cell_type": "code",
   "execution_count": null,
   "metadata": {},
   "outputs": [],
   "source": []
  },
  {
   "cell_type": "code",
   "execution_count": null,
   "metadata": {},
   "outputs": [],
   "source": []
  }
 ],
 "metadata": {
  "colab": {
   "authorship_tag": "ABX9TyOjIvh08AF4WrpvNwy1LnwP",
   "include_colab_link": true,
   "name": "map.ipynb",
   "provenance": []
  },
  "kernelspec": {
   "display_name": "Python 3",
   "language": "python",
   "name": "python3"
  },
  "language_info": {
   "codemirror_mode": {
    "name": "ipython",
    "version": 3
   },
   "file_extension": ".py",
   "mimetype": "text/x-python",
   "name": "python",
   "nbconvert_exporter": "python",
   "pygments_lexer": "ipython3",
   "version": "3.7.3"
  }
 },
 "nbformat": 4,
 "nbformat_minor": 1
}
